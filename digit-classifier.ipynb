{
 "cells": [
  {
   "cell_type": "code",
   "execution_count": 2,
   "id": "f22b62d1-de5d-4c66-88fd-ac39017a39db",
   "metadata": {},
   "outputs": [],
   "source": [
    "#imports \n",
    "\n",
    "from fastai.vision.all import *"
   ]
  },
  {
   "cell_type": "markdown",
   "id": "a9c8df04-7b3e-4c18-a4ce-7bf4f4cda564",
   "metadata": {
    "jp-MarkdownHeadingCollapsed": true
   },
   "source": [
    "### Pre-processing "
   ]
  },
  {
   "cell_type": "code",
   "execution_count": 2,
   "id": "473d389f-e8ae-4ac4-a944-862f6c93464e",
   "metadata": {},
   "outputs": [],
   "source": [
    "path = untar_data(URLs.MNIST_SAMPLE)"
   ]
  },
  {
   "cell_type": "code",
   "execution_count": 3,
   "id": "58b753ec-9c16-4e24-948b-bc44f07e2d40",
   "metadata": {},
   "outputs": [],
   "source": [
    "Path.BASE_PATH = path"
   ]
  },
  {
   "cell_type": "code",
   "execution_count": 4,
   "id": "d547dee4-8455-43d6-aaef-cddb6c54dec1",
   "metadata": {},
   "outputs": [
    {
     "data": {
      "text/plain": [
       "(#3) [Path('valid'),Path('labels.csv'),Path('train')]"
      ]
     },
     "execution_count": 4,
     "metadata": {},
     "output_type": "execute_result"
    }
   ],
   "source": [
    "path.ls()"
   ]
  },
  {
   "cell_type": "code",
   "execution_count": 5,
   "id": "91410005-58bb-4396-8675-71751cdfe920",
   "metadata": {},
   "outputs": [
    {
     "data": {
      "text/plain": [
       "(#2) [Path('train/7'),Path('train/3')]"
      ]
     },
     "execution_count": 5,
     "metadata": {},
     "output_type": "execute_result"
    }
   ],
   "source": [
    "#preview training set\n",
    "(path/'train').ls()"
   ]
  },
  {
   "cell_type": "code",
   "execution_count": 6,
   "id": "6927d865-6802-4c79-82b5-9dcb7af280b3",
   "metadata": {},
   "outputs": [
    {
     "data": {
      "text/plain": [
       "(#6131) [Path('train/3/10.png'),Path('train/3/10000.png'),Path('train/3/10011.png'),Path('train/3/10031.png'),Path('train/3/10034.png'),Path('train/3/10042.png'),Path('train/3/10052.png'),Path('train/3/1007.png'),Path('train/3/10074.png'),Path('train/3/10091.png')...]"
      ]
     },
     "execution_count": 6,
     "metadata": {},
     "output_type": "execute_result"
    }
   ],
   "source": [
    "threes  = (path/'train'/'3').ls().sorted()\n",
    "sevens  = (path/'train'/'7').ls().sorted()\n",
    "threes"
   ]
  },
  {
   "cell_type": "code",
   "execution_count": 7,
   "id": "311b208c-9aaa-4267-8c85-92cf6234cb60",
   "metadata": {},
   "outputs": [
    {
     "data": {
      "image/jpeg": "[encoded data removed]",
      "image/png": "[encoded data removed]",
      "text/plain": [
       "<PIL.PngImagePlugin.PngImageFile image mode=L size=28x28>"
      ]
     },
     "execution_count": 7,
     "metadata": {},
     "output_type": "execute_result"
    }
   ],
   "source": [
    "im3_path = threes[1]\n",
    "im3 = Image.open(im3_path)\n",
    "im3"
   ]
  },
  {
   "cell_type": "code",
   "execution_count": 8,
   "id": "2d1e69ad-8d90-4c5e-9621-ec967fa6e8f5",
   "metadata": {},
   "outputs": [
    {
     "data": {
      "text/plain": [
       "array([[  0,   0,   0,   0,   0,   0],\n",
       "       [  0,   0,   0,   0,   0,  29],\n",
       "       [  0,   0,   0,  48, 166, 224],\n",
       "       [  0,  93, 244, 249, 253, 187],\n",
       "       [  0, 107, 253, 253, 230,  48],\n",
       "       [  0,   3,  20,  20,  15,   0]], dtype=uint8)"
      ]
     },
     "execution_count": 8,
     "metadata": {},
     "output_type": "execute_result"
    }
   ],
   "source": [
    "#Slicing the image after converting to array\n",
    "array(im3)[4:10,4:10]"
   ]
  },
  {
   "cell_type": "code",
   "execution_count": 9,
   "id": "aafd6daf-51bc-463e-b579-9fc8763ff5a9",
   "metadata": {},
   "outputs": [
    {
     "data": {
      "text/plain": [
       "tensor([[  0,   0,   0,   0,   0,   0],\n",
       "        [  0,   0,   0,   0,   0,  29],\n",
       "        [  0,   0,   0,  48, 166, 224],\n",
       "        [  0,  93, 244, 249, 253, 187],\n",
       "        [  0, 107, 253, 253, 230,  48],\n",
       "        [  0,   3,  20,  20,  15,   0]], dtype=torch.uint8)"
      ]
     },
     "execution_count": 9,
     "metadata": {},
     "output_type": "execute_result"
    }
   ],
   "source": [
    "#Slicing the tensor\n",
    "tensor(im3)[4:10,4:10]"
   ]
  },
  {
   "cell_type": "code",
   "execution_count": 10,
   "id": "d3301ae6-4494-480b-a5c9-f8fd2f0a9a51",
   "metadata": {},
   "outputs": [
    {
     "data": {
      "text/html": [
       "<style type=\"text/css\">\n",
       "#T_e9d75_row0_col0, #T_e9d75_row0_col1, #T_e9d75_row0_col2, #T_e9d75_row0_col3, #T_e9d75_row0_col4, #T_e9d75_row0_col5, #T_e9d75_row0_col6, #T_e9d75_row0_col7, #T_e9d75_row0_col8, #T_e9d75_row0_col9, #T_e9d75_row0_col10, #T_e9d75_row0_col11, #T_e9d75_row0_col12, #T_e9d75_row0_col13, #T_e9d75_row0_col14, #T_e9d75_row0_col15, #T_e9d75_row0_col16, #T_e9d75_row0_col17, #T_e9d75_row1_col0, #T_e9d75_row1_col1, #T_e9d75_row1_col2, #T_e9d75_row1_col3, #T_e9d75_row1_col4, #T_e9d75_row1_col15, #T_e9d75_row1_col16, #T_e9d75_row1_col17, #T_e9d75_row2_col0, #T_e9d75_row2_col1, #T_e9d75_row2_col2, #T_e9d75_row2_col15, #T_e9d75_row2_col16, #T_e9d75_row2_col17, #T_e9d75_row3_col0, #T_e9d75_row3_col15, #T_e9d75_row3_col16, #T_e9d75_row3_col17, #T_e9d75_row4_col0, #T_e9d75_row4_col6, #T_e9d75_row4_col7, #T_e9d75_row4_col8, #T_e9d75_row4_col9, #T_e9d75_row4_col10, #T_e9d75_row4_col15, #T_e9d75_row4_col16, #T_e9d75_row4_col17, #T_e9d75_row5_col0, #T_e9d75_row5_col5, #T_e9d75_row5_col6, #T_e9d75_row5_col7, #T_e9d75_row5_col8, #T_e9d75_row5_col9, #T_e9d75_row5_col15, #T_e9d75_row5_col16, #T_e9d75_row5_col17, #T_e9d75_row6_col0, #T_e9d75_row6_col1, #T_e9d75_row6_col2, #T_e9d75_row6_col3, #T_e9d75_row6_col4, #T_e9d75_row6_col5, #T_e9d75_row6_col6, #T_e9d75_row6_col7, #T_e9d75_row6_col8, #T_e9d75_row6_col9, #T_e9d75_row6_col14, #T_e9d75_row6_col15, #T_e9d75_row6_col16, #T_e9d75_row6_col17, #T_e9d75_row7_col0, #T_e9d75_row7_col1, #T_e9d75_row7_col2, #T_e9d75_row7_col3, #T_e9d75_row7_col4, #T_e9d75_row7_col5, #T_e9d75_row7_col6, #T_e9d75_row7_col13, #T_e9d75_row7_col14, #T_e9d75_row7_col15, #T_e9d75_row7_col16, #T_e9d75_row7_col17, #T_e9d75_row8_col0, #T_e9d75_row8_col1, #T_e9d75_row8_col2, #T_e9d75_row8_col3, #T_e9d75_row8_col4, #T_e9d75_row8_col13, #T_e9d75_row8_col14, #T_e9d75_row8_col15, #T_e9d75_row8_col16, #T_e9d75_row8_col17, #T_e9d75_row9_col0, #T_e9d75_row9_col1, #T_e9d75_row9_col2, #T_e9d75_row9_col3, #T_e9d75_row9_col4, #T_e9d75_row9_col16, #T_e9d75_row9_col17, #T_e9d75_row10_col0, #T_e9d75_row10_col1, #T_e9d75_row10_col2, #T_e9d75_row10_col3, #T_e9d75_row10_col4, #T_e9d75_row10_col5, #T_e9d75_row10_col6, #T_e9d75_row10_col17 {\n",
       "  font-size: 6pt;\n",
       "  background-color: #ffffff;\n",
       "  color: #000000;\n",
       "}\n",
       "#T_e9d75_row1_col5 {\n",
       "  font-size: 6pt;\n",
       "  background-color: #efefef;\n",
       "  color: #000000;\n",
       "}\n",
       "#T_e9d75_row1_col6, #T_e9d75_row1_col13 {\n",
       "  font-size: 6pt;\n",
       "  background-color: #7c7c7c;\n",
       "  color: #f1f1f1;\n",
       "}\n",
       "#T_e9d75_row1_col7 {\n",
       "  font-size: 6pt;\n",
       "  background-color: #4a4a4a;\n",
       "  color: #f1f1f1;\n",
       "}\n",
       "#T_e9d75_row1_col8, #T_e9d75_row1_col9, #T_e9d75_row1_col10, #T_e9d75_row2_col5, #T_e9d75_row2_col6, #T_e9d75_row2_col7, #T_e9d75_row2_col11, #T_e9d75_row2_col12, #T_e9d75_row2_col13, #T_e9d75_row3_col4, #T_e9d75_row3_col12, #T_e9d75_row3_col13, #T_e9d75_row4_col1, #T_e9d75_row4_col2, #T_e9d75_row4_col3, #T_e9d75_row4_col12, #T_e9d75_row4_col13, #T_e9d75_row5_col12, #T_e9d75_row6_col11, #T_e9d75_row9_col11, #T_e9d75_row10_col11, #T_e9d75_row10_col12, #T_e9d75_row10_col13, #T_e9d75_row10_col14, #T_e9d75_row10_col15, #T_e9d75_row10_col16 {\n",
       "  font-size: 6pt;\n",
       "  background-color: #000000;\n",
       "  color: #f1f1f1;\n",
       "}\n",
       "#T_e9d75_row1_col11 {\n",
       "  font-size: 6pt;\n",
       "  background-color: #606060;\n",
       "  color: #f1f1f1;\n",
       "}\n",
       "#T_e9d75_row1_col12 {\n",
       "  font-size: 6pt;\n",
       "  background-color: #4d4d4d;\n",
       "  color: #f1f1f1;\n",
       "}\n",
       "#T_e9d75_row1_col14 {\n",
       "  font-size: 6pt;\n",
       "  background-color: #bbbbbb;\n",
       "  color: #000000;\n",
       "}\n",
       "#T_e9d75_row2_col3 {\n",
       "  font-size: 6pt;\n",
       "  background-color: #e4e4e4;\n",
       "  color: #000000;\n",
       "}\n",
       "#T_e9d75_row2_col4, #T_e9d75_row8_col6 {\n",
       "  font-size: 6pt;\n",
       "  background-color: #6b6b6b;\n",
       "  color: #f1f1f1;\n",
       "}\n",
       "#T_e9d75_row2_col8, #T_e9d75_row2_col14, #T_e9d75_row3_col14 {\n",
       "  font-size: 6pt;\n",
       "  background-color: #171717;\n",
       "  color: #f1f1f1;\n",
       "}\n",
       "#T_e9d75_row2_col9, #T_e9d75_row3_col11 {\n",
       "  font-size: 6pt;\n",
       "  background-color: #4b4b4b;\n",
       "  color: #f1f1f1;\n",
       "}\n",
       "#T_e9d75_row2_col10, #T_e9d75_row7_col10, #T_e9d75_row8_col8, #T_e9d75_row8_col10, #T_e9d75_row9_col8, #T_e9d75_row9_col10 {\n",
       "  font-size: 6pt;\n",
       "  background-color: #010101;\n",
       "  color: #f1f1f1;\n",
       "}\n",
       "#T_e9d75_row3_col1 {\n",
       "  font-size: 6pt;\n",
       "  background-color: #272727;\n",
       "  color: #f1f1f1;\n",
       "}\n",
       "#T_e9d75_row3_col2 {\n",
       "  font-size: 6pt;\n",
       "  background-color: #0a0a0a;\n",
       "  color: #f1f1f1;\n",
       "}\n",
       "#T_e9d75_row3_col3 {\n",
       "  font-size: 6pt;\n",
       "  background-color: #050505;\n",
       "  color: #f1f1f1;\n",
       "}\n",
       "#T_e9d75_row3_col5 {\n",
       "  font-size: 6pt;\n",
       "  background-color: #333333;\n",
       "  color: #f1f1f1;\n",
       "}\n",
       "#T_e9d75_row3_col6 {\n",
       "  font-size: 6pt;\n",
       "  background-color: #e6e6e6;\n",
       "  color: #000000;\n",
       "}\n",
       "#T_e9d75_row3_col7, #T_e9d75_row3_col10 {\n",
       "  font-size: 6pt;\n",
       "  background-color: #fafafa;\n",
       "  color: #000000;\n",
       "}\n",
       "#T_e9d75_row3_col8 {\n",
       "  font-size: 6pt;\n",
       "  background-color: #fbfbfb;\n",
       "  color: #000000;\n",
       "}\n",
       "#T_e9d75_row3_col9 {\n",
       "  font-size: 6pt;\n",
       "  background-color: #fdfdfd;\n",
       "  color: #000000;\n",
       "}\n",
       "#T_e9d75_row4_col4 {\n",
       "  font-size: 6pt;\n",
       "  background-color: #1b1b1b;\n",
       "  color: #f1f1f1;\n",
       "}\n",
       "#T_e9d75_row4_col5 {\n",
       "  font-size: 6pt;\n",
       "  background-color: #e0e0e0;\n",
       "  color: #000000;\n",
       "}\n",
       "#T_e9d75_row4_col11 {\n",
       "  font-size: 6pt;\n",
       "  background-color: #4e4e4e;\n",
       "  color: #f1f1f1;\n",
       "}\n",
       "#T_e9d75_row4_col14 {\n",
       "  font-size: 6pt;\n",
       "  background-color: #767676;\n",
       "  color: #f1f1f1;\n",
       "}\n",
       "#T_e9d75_row5_col1 {\n",
       "  font-size: 6pt;\n",
       "  background-color: #fcfcfc;\n",
       "  color: #000000;\n",
       "}\n",
       "#T_e9d75_row5_col2, #T_e9d75_row5_col3 {\n",
       "  font-size: 6pt;\n",
       "  background-color: #f6f6f6;\n",
       "  color: #000000;\n",
       "}\n",
       "#T_e9d75_row5_col4, #T_e9d75_row7_col7 {\n",
       "  font-size: 6pt;\n",
       "  background-color: #f8f8f8;\n",
       "  color: #000000;\n",
       "}\n",
       "#T_e9d75_row5_col10, #T_e9d75_row10_col7 {\n",
       "  font-size: 6pt;\n",
       "  background-color: #e8e8e8;\n",
       "  color: #000000;\n",
       "}\n",
       "#T_e9d75_row5_col11 {\n",
       "  font-size: 6pt;\n",
       "  background-color: #222222;\n",
       "  color: #f1f1f1;\n",
       "}\n",
       "#T_e9d75_row5_col13, #T_e9d75_row6_col12 {\n",
       "  font-size: 6pt;\n",
       "  background-color: #090909;\n",
       "  color: #f1f1f1;\n",
       "}\n",
       "#T_e9d75_row5_col14 {\n",
       "  font-size: 6pt;\n",
       "  background-color: #d0d0d0;\n",
       "  color: #000000;\n",
       "}\n",
       "#T_e9d75_row6_col10, #T_e9d75_row7_col11, #T_e9d75_row9_col6 {\n",
       "  font-size: 6pt;\n",
       "  background-color: #060606;\n",
       "  color: #f1f1f1;\n",
       "}\n",
       "#T_e9d75_row6_col13 {\n",
       "  font-size: 6pt;\n",
       "  background-color: #979797;\n",
       "  color: #f1f1f1;\n",
       "}\n",
       "#T_e9d75_row7_col8 {\n",
       "  font-size: 6pt;\n",
       "  background-color: #b6b6b6;\n",
       "  color: #000000;\n",
       "}\n",
       "#T_e9d75_row7_col9 {\n",
       "  font-size: 6pt;\n",
       "  background-color: #252525;\n",
       "  color: #f1f1f1;\n",
       "}\n",
       "#T_e9d75_row7_col12 {\n",
       "  font-size: 6pt;\n",
       "  background-color: #999999;\n",
       "  color: #f1f1f1;\n",
       "}\n",
       "#T_e9d75_row8_col5 {\n",
       "  font-size: 6pt;\n",
       "  background-color: #f9f9f9;\n",
       "  color: #000000;\n",
       "}\n",
       "#T_e9d75_row8_col7 {\n",
       "  font-size: 6pt;\n",
       "  background-color: #101010;\n",
       "  color: #f1f1f1;\n",
       "}\n",
       "#T_e9d75_row8_col9, #T_e9d75_row9_col9 {\n",
       "  font-size: 6pt;\n",
       "  background-color: #020202;\n",
       "  color: #f1f1f1;\n",
       "}\n",
       "#T_e9d75_row8_col11 {\n",
       "  font-size: 6pt;\n",
       "  background-color: #545454;\n",
       "  color: #f1f1f1;\n",
       "}\n",
       "#T_e9d75_row8_col12 {\n",
       "  font-size: 6pt;\n",
       "  background-color: #f1f1f1;\n",
       "  color: #000000;\n",
       "}\n",
       "#T_e9d75_row9_col5 {\n",
       "  font-size: 6pt;\n",
       "  background-color: #f7f7f7;\n",
       "  color: #000000;\n",
       "}\n",
       "#T_e9d75_row9_col7 {\n",
       "  font-size: 6pt;\n",
       "  background-color: #030303;\n",
       "  color: #f1f1f1;\n",
       "}\n",
       "#T_e9d75_row9_col12 {\n",
       "  font-size: 6pt;\n",
       "  background-color: #181818;\n",
       "  color: #f1f1f1;\n",
       "}\n",
       "#T_e9d75_row9_col13 {\n",
       "  font-size: 6pt;\n",
       "  background-color: #303030;\n",
       "  color: #f1f1f1;\n",
       "}\n",
       "#T_e9d75_row9_col14 {\n",
       "  font-size: 6pt;\n",
       "  background-color: #a9a9a9;\n",
       "  color: #f1f1f1;\n",
       "}\n",
       "#T_e9d75_row9_col15 {\n",
       "  font-size: 6pt;\n",
       "  background-color: #fefefe;\n",
       "  color: #000000;\n",
       "}\n",
       "#T_e9d75_row10_col8, #T_e9d75_row10_col9 {\n",
       "  font-size: 6pt;\n",
       "  background-color: #bababa;\n",
       "  color: #000000;\n",
       "}\n",
       "#T_e9d75_row10_col10 {\n",
       "  font-size: 6pt;\n",
       "  background-color: #393939;\n",
       "  color: #f1f1f1;\n",
       "}\n",
       "</style>\n",
       "<table id=\"T_e9d75\">\n",
       "  <thead>\n",
       "    <tr>\n",
       "      <th class=\"blank level0\" >&nbsp;</th>\n",
       "      <th id=\"T_e9d75_level0_col0\" class=\"col_heading level0 col0\" >0</th>\n",
       "      <th id=\"T_e9d75_level0_col1\" class=\"col_heading level0 col1\" >1</th>\n",
       "      <th id=\"T_e9d75_level0_col2\" class=\"col_heading level0 col2\" >2</th>\n",
       "      <th id=\"T_e9d75_level0_col3\" class=\"col_heading level0 col3\" >3</th>\n",
       "      <th id=\"T_e9d75_level0_col4\" class=\"col_heading level0 col4\" >4</th>\n",
       "      <th id=\"T_e9d75_level0_col5\" class=\"col_heading level0 col5\" >5</th>\n",
       "      <th id=\"T_e9d75_level0_col6\" class=\"col_heading level0 col6\" >6</th>\n",
       "      <th id=\"T_e9d75_level0_col7\" class=\"col_heading level0 col7\" >7</th>\n",
       "      <th id=\"T_e9d75_level0_col8\" class=\"col_heading level0 col8\" >8</th>\n",
       "      <th id=\"T_e9d75_level0_col9\" class=\"col_heading level0 col9\" >9</th>\n",
       "      <th id=\"T_e9d75_level0_col10\" class=\"col_heading level0 col10\" >10</th>\n",
       "      <th id=\"T_e9d75_level0_col11\" class=\"col_heading level0 col11\" >11</th>\n",
       "      <th id=\"T_e9d75_level0_col12\" class=\"col_heading level0 col12\" >12</th>\n",
       "      <th id=\"T_e9d75_level0_col13\" class=\"col_heading level0 col13\" >13</th>\n",
       "      <th id=\"T_e9d75_level0_col14\" class=\"col_heading level0 col14\" >14</th>\n",
       "      <th id=\"T_e9d75_level0_col15\" class=\"col_heading level0 col15\" >15</th>\n",
       "      <th id=\"T_e9d75_level0_col16\" class=\"col_heading level0 col16\" >16</th>\n",
       "      <th id=\"T_e9d75_level0_col17\" class=\"col_heading level0 col17\" >17</th>\n",
       "    </tr>\n",
       "  </thead>\n",
       "  <tbody>\n",
       "    <tr>\n",
       "      <th id=\"T_e9d75_level0_row0\" class=\"row_heading level0 row0\" >0</th>\n",
       "      <td id=\"T_e9d75_row0_col0\" class=\"data row0 col0\" >0</td>\n",
       "      <td id=\"T_e9d75_row0_col1\" class=\"data row0 col1\" >0</td>\n",
       "      <td id=\"T_e9d75_row0_col2\" class=\"data row0 col2\" >0</td>\n",
       "      <td id=\"T_e9d75_row0_col3\" class=\"data row0 col3\" >0</td>\n",
       "      <td id=\"T_e9d75_row0_col4\" class=\"data row0 col4\" >0</td>\n",
       "      <td id=\"T_e9d75_row0_col5\" class=\"data row0 col5\" >0</td>\n",
       "      <td id=\"T_e9d75_row0_col6\" class=\"data row0 col6\" >0</td>\n",
       "      <td id=\"T_e9d75_row0_col7\" class=\"data row0 col7\" >0</td>\n",
       "      <td id=\"T_e9d75_row0_col8\" class=\"data row0 col8\" >0</td>\n",
       "      <td id=\"T_e9d75_row0_col9\" class=\"data row0 col9\" >0</td>\n",
       "      <td id=\"T_e9d75_row0_col10\" class=\"data row0 col10\" >0</td>\n",
       "      <td id=\"T_e9d75_row0_col11\" class=\"data row0 col11\" >0</td>\n",
       "      <td id=\"T_e9d75_row0_col12\" class=\"data row0 col12\" >0</td>\n",
       "      <td id=\"T_e9d75_row0_col13\" class=\"data row0 col13\" >0</td>\n",
       "      <td id=\"T_e9d75_row0_col14\" class=\"data row0 col14\" >0</td>\n",
       "      <td id=\"T_e9d75_row0_col15\" class=\"data row0 col15\" >0</td>\n",
       "      <td id=\"T_e9d75_row0_col16\" class=\"data row0 col16\" >0</td>\n",
       "      <td id=\"T_e9d75_row0_col17\" class=\"data row0 col17\" >0</td>\n",
       "    </tr>\n",
       "    <tr>\n",
       "      <th id=\"T_e9d75_level0_row1\" class=\"row_heading level0 row1\" >1</th>\n",
       "      <td id=\"T_e9d75_row1_col0\" class=\"data row1 col0\" >0</td>\n",
       "      <td id=\"T_e9d75_row1_col1\" class=\"data row1 col1\" >0</td>\n",
       "      <td id=\"T_e9d75_row1_col2\" class=\"data row1 col2\" >0</td>\n",
       "      <td id=\"T_e9d75_row1_col3\" class=\"data row1 col3\" >0</td>\n",
       "      <td id=\"T_e9d75_row1_col4\" class=\"data row1 col4\" >0</td>\n",
       "      <td id=\"T_e9d75_row1_col5\" class=\"data row1 col5\" >29</td>\n",
       "      <td id=\"T_e9d75_row1_col6\" class=\"data row1 col6\" >150</td>\n",
       "      <td id=\"T_e9d75_row1_col7\" class=\"data row1 col7\" >195</td>\n",
       "      <td id=\"T_e9d75_row1_col8\" class=\"data row1 col8\" >254</td>\n",
       "      <td id=\"T_e9d75_row1_col9\" class=\"data row1 col9\" >255</td>\n",
       "      <td id=\"T_e9d75_row1_col10\" class=\"data row1 col10\" >254</td>\n",
       "      <td id=\"T_e9d75_row1_col11\" class=\"data row1 col11\" >176</td>\n",
       "      <td id=\"T_e9d75_row1_col12\" class=\"data row1 col12\" >193</td>\n",
       "      <td id=\"T_e9d75_row1_col13\" class=\"data row1 col13\" >150</td>\n",
       "      <td id=\"T_e9d75_row1_col14\" class=\"data row1 col14\" >96</td>\n",
       "      <td id=\"T_e9d75_row1_col15\" class=\"data row1 col15\" >0</td>\n",
       "      <td id=\"T_e9d75_row1_col16\" class=\"data row1 col16\" >0</td>\n",
       "      <td id=\"T_e9d75_row1_col17\" class=\"data row1 col17\" >0</td>\n",
       "    </tr>\n",
       "    <tr>\n",
       "      <th id=\"T_e9d75_level0_row2\" class=\"row_heading level0 row2\" >2</th>\n",
       "      <td id=\"T_e9d75_row2_col0\" class=\"data row2 col0\" >0</td>\n",
       "      <td id=\"T_e9d75_row2_col1\" class=\"data row2 col1\" >0</td>\n",
       "      <td id=\"T_e9d75_row2_col2\" class=\"data row2 col2\" >0</td>\n",
       "      <td id=\"T_e9d75_row2_col3\" class=\"data row2 col3\" >48</td>\n",
       "      <td id=\"T_e9d75_row2_col4\" class=\"data row2 col4\" >166</td>\n",
       "      <td id=\"T_e9d75_row2_col5\" class=\"data row2 col5\" >224</td>\n",
       "      <td id=\"T_e9d75_row2_col6\" class=\"data row2 col6\" >253</td>\n",
       "      <td id=\"T_e9d75_row2_col7\" class=\"data row2 col7\" >253</td>\n",
       "      <td id=\"T_e9d75_row2_col8\" class=\"data row2 col8\" >234</td>\n",
       "      <td id=\"T_e9d75_row2_col9\" class=\"data row2 col9\" >196</td>\n",
       "      <td id=\"T_e9d75_row2_col10\" class=\"data row2 col10\" >253</td>\n",
       "      <td id=\"T_e9d75_row2_col11\" class=\"data row2 col11\" >253</td>\n",
       "      <td id=\"T_e9d75_row2_col12\" class=\"data row2 col12\" >253</td>\n",
       "      <td id=\"T_e9d75_row2_col13\" class=\"data row2 col13\" >253</td>\n",
       "      <td id=\"T_e9d75_row2_col14\" class=\"data row2 col14\" >233</td>\n",
       "      <td id=\"T_e9d75_row2_col15\" class=\"data row2 col15\" >0</td>\n",
       "      <td id=\"T_e9d75_row2_col16\" class=\"data row2 col16\" >0</td>\n",
       "      <td id=\"T_e9d75_row2_col17\" class=\"data row2 col17\" >0</td>\n",
       "    </tr>\n",
       "    <tr>\n",
       "      <th id=\"T_e9d75_level0_row3\" class=\"row_heading level0 row3\" >3</th>\n",
       "      <td id=\"T_e9d75_row3_col0\" class=\"data row3 col0\" >0</td>\n",
       "      <td id=\"T_e9d75_row3_col1\" class=\"data row3 col1\" >93</td>\n",
       "      <td id=\"T_e9d75_row3_col2\" class=\"data row3 col2\" >244</td>\n",
       "      <td id=\"T_e9d75_row3_col3\" class=\"data row3 col3\" >249</td>\n",
       "      <td id=\"T_e9d75_row3_col4\" class=\"data row3 col4\" >253</td>\n",
       "      <td id=\"T_e9d75_row3_col5\" class=\"data row3 col5\" >187</td>\n",
       "      <td id=\"T_e9d75_row3_col6\" class=\"data row3 col6\" >46</td>\n",
       "      <td id=\"T_e9d75_row3_col7\" class=\"data row3 col7\" >10</td>\n",
       "      <td id=\"T_e9d75_row3_col8\" class=\"data row3 col8\" >8</td>\n",
       "      <td id=\"T_e9d75_row3_col9\" class=\"data row3 col9\" >4</td>\n",
       "      <td id=\"T_e9d75_row3_col10\" class=\"data row3 col10\" >10</td>\n",
       "      <td id=\"T_e9d75_row3_col11\" class=\"data row3 col11\" >194</td>\n",
       "      <td id=\"T_e9d75_row3_col12\" class=\"data row3 col12\" >253</td>\n",
       "      <td id=\"T_e9d75_row3_col13\" class=\"data row3 col13\" >253</td>\n",
       "      <td id=\"T_e9d75_row3_col14\" class=\"data row3 col14\" >233</td>\n",
       "      <td id=\"T_e9d75_row3_col15\" class=\"data row3 col15\" >0</td>\n",
       "      <td id=\"T_e9d75_row3_col16\" class=\"data row3 col16\" >0</td>\n",
       "      <td id=\"T_e9d75_row3_col17\" class=\"data row3 col17\" >0</td>\n",
       "    </tr>\n",
       "    <tr>\n",
       "      <th id=\"T_e9d75_level0_row4\" class=\"row_heading level0 row4\" >4</th>\n",
       "      <td id=\"T_e9d75_row4_col0\" class=\"data row4 col0\" >0</td>\n",
       "      <td id=\"T_e9d75_row4_col1\" class=\"data row4 col1\" >107</td>\n",
       "      <td id=\"T_e9d75_row4_col2\" class=\"data row4 col2\" >253</td>\n",
       "      <td id=\"T_e9d75_row4_col3\" class=\"data row4 col3\" >253</td>\n",
       "      <td id=\"T_e9d75_row4_col4\" class=\"data row4 col4\" >230</td>\n",
       "      <td id=\"T_e9d75_row4_col5\" class=\"data row4 col5\" >48</td>\n",
       "      <td id=\"T_e9d75_row4_col6\" class=\"data row4 col6\" >0</td>\n",
       "      <td id=\"T_e9d75_row4_col7\" class=\"data row4 col7\" >0</td>\n",
       "      <td id=\"T_e9d75_row4_col8\" class=\"data row4 col8\" >0</td>\n",
       "      <td id=\"T_e9d75_row4_col9\" class=\"data row4 col9\" >0</td>\n",
       "      <td id=\"T_e9d75_row4_col10\" class=\"data row4 col10\" >0</td>\n",
       "      <td id=\"T_e9d75_row4_col11\" class=\"data row4 col11\" >192</td>\n",
       "      <td id=\"T_e9d75_row4_col12\" class=\"data row4 col12\" >253</td>\n",
       "      <td id=\"T_e9d75_row4_col13\" class=\"data row4 col13\" >253</td>\n",
       "      <td id=\"T_e9d75_row4_col14\" class=\"data row4 col14\" >156</td>\n",
       "      <td id=\"T_e9d75_row4_col15\" class=\"data row4 col15\" >0</td>\n",
       "      <td id=\"T_e9d75_row4_col16\" class=\"data row4 col16\" >0</td>\n",
       "      <td id=\"T_e9d75_row4_col17\" class=\"data row4 col17\" >0</td>\n",
       "    </tr>\n",
       "    <tr>\n",
       "      <th id=\"T_e9d75_level0_row5\" class=\"row_heading level0 row5\" >5</th>\n",
       "      <td id=\"T_e9d75_row5_col0\" class=\"data row5 col0\" >0</td>\n",
       "      <td id=\"T_e9d75_row5_col1\" class=\"data row5 col1\" >3</td>\n",
       "      <td id=\"T_e9d75_row5_col2\" class=\"data row5 col2\" >20</td>\n",
       "      <td id=\"T_e9d75_row5_col3\" class=\"data row5 col3\" >20</td>\n",
       "      <td id=\"T_e9d75_row5_col4\" class=\"data row5 col4\" >15</td>\n",
       "      <td id=\"T_e9d75_row5_col5\" class=\"data row5 col5\" >0</td>\n",
       "      <td id=\"T_e9d75_row5_col6\" class=\"data row5 col6\" >0</td>\n",
       "      <td id=\"T_e9d75_row5_col7\" class=\"data row5 col7\" >0</td>\n",
       "      <td id=\"T_e9d75_row5_col8\" class=\"data row5 col8\" >0</td>\n",
       "      <td id=\"T_e9d75_row5_col9\" class=\"data row5 col9\" >0</td>\n",
       "      <td id=\"T_e9d75_row5_col10\" class=\"data row5 col10\" >43</td>\n",
       "      <td id=\"T_e9d75_row5_col11\" class=\"data row5 col11\" >224</td>\n",
       "      <td id=\"T_e9d75_row5_col12\" class=\"data row5 col12\" >253</td>\n",
       "      <td id=\"T_e9d75_row5_col13\" class=\"data row5 col13\" >245</td>\n",
       "      <td id=\"T_e9d75_row5_col14\" class=\"data row5 col14\" >74</td>\n",
       "      <td id=\"T_e9d75_row5_col15\" class=\"data row5 col15\" >0</td>\n",
       "      <td id=\"T_e9d75_row5_col16\" class=\"data row5 col16\" >0</td>\n",
       "      <td id=\"T_e9d75_row5_col17\" class=\"data row5 col17\" >0</td>\n",
       "    </tr>\n",
       "    <tr>\n",
       "      <th id=\"T_e9d75_level0_row6\" class=\"row_heading level0 row6\" >6</th>\n",
       "      <td id=\"T_e9d75_row6_col0\" class=\"data row6 col0\" >0</td>\n",
       "      <td id=\"T_e9d75_row6_col1\" class=\"data row6 col1\" >0</td>\n",
       "      <td id=\"T_e9d75_row6_col2\" class=\"data row6 col2\" >0</td>\n",
       "      <td id=\"T_e9d75_row6_col3\" class=\"data row6 col3\" >0</td>\n",
       "      <td id=\"T_e9d75_row6_col4\" class=\"data row6 col4\" >0</td>\n",
       "      <td id=\"T_e9d75_row6_col5\" class=\"data row6 col5\" >0</td>\n",
       "      <td id=\"T_e9d75_row6_col6\" class=\"data row6 col6\" >0</td>\n",
       "      <td id=\"T_e9d75_row6_col7\" class=\"data row6 col7\" >0</td>\n",
       "      <td id=\"T_e9d75_row6_col8\" class=\"data row6 col8\" >0</td>\n",
       "      <td id=\"T_e9d75_row6_col9\" class=\"data row6 col9\" >0</td>\n",
       "      <td id=\"T_e9d75_row6_col10\" class=\"data row6 col10\" >249</td>\n",
       "      <td id=\"T_e9d75_row6_col11\" class=\"data row6 col11\" >253</td>\n",
       "      <td id=\"T_e9d75_row6_col12\" class=\"data row6 col12\" >245</td>\n",
       "      <td id=\"T_e9d75_row6_col13\" class=\"data row6 col13\" >126</td>\n",
       "      <td id=\"T_e9d75_row6_col14\" class=\"data row6 col14\" >0</td>\n",
       "      <td id=\"T_e9d75_row6_col15\" class=\"data row6 col15\" >0</td>\n",
       "      <td id=\"T_e9d75_row6_col16\" class=\"data row6 col16\" >0</td>\n",
       "      <td id=\"T_e9d75_row6_col17\" class=\"data row6 col17\" >0</td>\n",
       "    </tr>\n",
       "    <tr>\n",
       "      <th id=\"T_e9d75_level0_row7\" class=\"row_heading level0 row7\" >7</th>\n",
       "      <td id=\"T_e9d75_row7_col0\" class=\"data row7 col0\" >0</td>\n",
       "      <td id=\"T_e9d75_row7_col1\" class=\"data row7 col1\" >0</td>\n",
       "      <td id=\"T_e9d75_row7_col2\" class=\"data row7 col2\" >0</td>\n",
       "      <td id=\"T_e9d75_row7_col3\" class=\"data row7 col3\" >0</td>\n",
       "      <td id=\"T_e9d75_row7_col4\" class=\"data row7 col4\" >0</td>\n",
       "      <td id=\"T_e9d75_row7_col5\" class=\"data row7 col5\" >0</td>\n",
       "      <td id=\"T_e9d75_row7_col6\" class=\"data row7 col6\" >0</td>\n",
       "      <td id=\"T_e9d75_row7_col7\" class=\"data row7 col7\" >14</td>\n",
       "      <td id=\"T_e9d75_row7_col8\" class=\"data row7 col8\" >101</td>\n",
       "      <td id=\"T_e9d75_row7_col9\" class=\"data row7 col9\" >223</td>\n",
       "      <td id=\"T_e9d75_row7_col10\" class=\"data row7 col10\" >253</td>\n",
       "      <td id=\"T_e9d75_row7_col11\" class=\"data row7 col11\" >248</td>\n",
       "      <td id=\"T_e9d75_row7_col12\" class=\"data row7 col12\" >124</td>\n",
       "      <td id=\"T_e9d75_row7_col13\" class=\"data row7 col13\" >0</td>\n",
       "      <td id=\"T_e9d75_row7_col14\" class=\"data row7 col14\" >0</td>\n",
       "      <td id=\"T_e9d75_row7_col15\" class=\"data row7 col15\" >0</td>\n",
       "      <td id=\"T_e9d75_row7_col16\" class=\"data row7 col16\" >0</td>\n",
       "      <td id=\"T_e9d75_row7_col17\" class=\"data row7 col17\" >0</td>\n",
       "    </tr>\n",
       "    <tr>\n",
       "      <th id=\"T_e9d75_level0_row8\" class=\"row_heading level0 row8\" >8</th>\n",
       "      <td id=\"T_e9d75_row8_col0\" class=\"data row8 col0\" >0</td>\n",
       "      <td id=\"T_e9d75_row8_col1\" class=\"data row8 col1\" >0</td>\n",
       "      <td id=\"T_e9d75_row8_col2\" class=\"data row8 col2\" >0</td>\n",
       "      <td id=\"T_e9d75_row8_col3\" class=\"data row8 col3\" >0</td>\n",
       "      <td id=\"T_e9d75_row8_col4\" class=\"data row8 col4\" >0</td>\n",
       "      <td id=\"T_e9d75_row8_col5\" class=\"data row8 col5\" >11</td>\n",
       "      <td id=\"T_e9d75_row8_col6\" class=\"data row8 col6\" >166</td>\n",
       "      <td id=\"T_e9d75_row8_col7\" class=\"data row8 col7\" >239</td>\n",
       "      <td id=\"T_e9d75_row8_col8\" class=\"data row8 col8\" >253</td>\n",
       "      <td id=\"T_e9d75_row8_col9\" class=\"data row8 col9\" >253</td>\n",
       "      <td id=\"T_e9d75_row8_col10\" class=\"data row8 col10\" >253</td>\n",
       "      <td id=\"T_e9d75_row8_col11\" class=\"data row8 col11\" >187</td>\n",
       "      <td id=\"T_e9d75_row8_col12\" class=\"data row8 col12\" >30</td>\n",
       "      <td id=\"T_e9d75_row8_col13\" class=\"data row8 col13\" >0</td>\n",
       "      <td id=\"T_e9d75_row8_col14\" class=\"data row8 col14\" >0</td>\n",
       "      <td id=\"T_e9d75_row8_col15\" class=\"data row8 col15\" >0</td>\n",
       "      <td id=\"T_e9d75_row8_col16\" class=\"data row8 col16\" >0</td>\n",
       "      <td id=\"T_e9d75_row8_col17\" class=\"data row8 col17\" >0</td>\n",
       "    </tr>\n",
       "    <tr>\n",
       "      <th id=\"T_e9d75_level0_row9\" class=\"row_heading level0 row9\" >9</th>\n",
       "      <td id=\"T_e9d75_row9_col0\" class=\"data row9 col0\" >0</td>\n",
       "      <td id=\"T_e9d75_row9_col1\" class=\"data row9 col1\" >0</td>\n",
       "      <td id=\"T_e9d75_row9_col2\" class=\"data row9 col2\" >0</td>\n",
       "      <td id=\"T_e9d75_row9_col3\" class=\"data row9 col3\" >0</td>\n",
       "      <td id=\"T_e9d75_row9_col4\" class=\"data row9 col4\" >0</td>\n",
       "      <td id=\"T_e9d75_row9_col5\" class=\"data row9 col5\" >16</td>\n",
       "      <td id=\"T_e9d75_row9_col6\" class=\"data row9 col6\" >248</td>\n",
       "      <td id=\"T_e9d75_row9_col7\" class=\"data row9 col7\" >250</td>\n",
       "      <td id=\"T_e9d75_row9_col8\" class=\"data row9 col8\" >253</td>\n",
       "      <td id=\"T_e9d75_row9_col9\" class=\"data row9 col9\" >253</td>\n",
       "      <td id=\"T_e9d75_row9_col10\" class=\"data row9 col10\" >253</td>\n",
       "      <td id=\"T_e9d75_row9_col11\" class=\"data row9 col11\" >253</td>\n",
       "      <td id=\"T_e9d75_row9_col12\" class=\"data row9 col12\" >232</td>\n",
       "      <td id=\"T_e9d75_row9_col13\" class=\"data row9 col13\" >213</td>\n",
       "      <td id=\"T_e9d75_row9_col14\" class=\"data row9 col14\" >111</td>\n",
       "      <td id=\"T_e9d75_row9_col15\" class=\"data row9 col15\" >2</td>\n",
       "      <td id=\"T_e9d75_row9_col16\" class=\"data row9 col16\" >0</td>\n",
       "      <td id=\"T_e9d75_row9_col17\" class=\"data row9 col17\" >0</td>\n",
       "    </tr>\n",
       "    <tr>\n",
       "      <th id=\"T_e9d75_level0_row10\" class=\"row_heading level0 row10\" >10</th>\n",
       "      <td id=\"T_e9d75_row10_col0\" class=\"data row10 col0\" >0</td>\n",
       "      <td id=\"T_e9d75_row10_col1\" class=\"data row10 col1\" >0</td>\n",
       "      <td id=\"T_e9d75_row10_col2\" class=\"data row10 col2\" >0</td>\n",
       "      <td id=\"T_e9d75_row10_col3\" class=\"data row10 col3\" >0</td>\n",
       "      <td id=\"T_e9d75_row10_col4\" class=\"data row10 col4\" >0</td>\n",
       "      <td id=\"T_e9d75_row10_col5\" class=\"data row10 col5\" >0</td>\n",
       "      <td id=\"T_e9d75_row10_col6\" class=\"data row10 col6\" >0</td>\n",
       "      <td id=\"T_e9d75_row10_col7\" class=\"data row10 col7\" >43</td>\n",
       "      <td id=\"T_e9d75_row10_col8\" class=\"data row10 col8\" >98</td>\n",
       "      <td id=\"T_e9d75_row10_col9\" class=\"data row10 col9\" >98</td>\n",
       "      <td id=\"T_e9d75_row10_col10\" class=\"data row10 col10\" >208</td>\n",
       "      <td id=\"T_e9d75_row10_col11\" class=\"data row10 col11\" >253</td>\n",
       "      <td id=\"T_e9d75_row10_col12\" class=\"data row10 col12\" >253</td>\n",
       "      <td id=\"T_e9d75_row10_col13\" class=\"data row10 col13\" >253</td>\n",
       "      <td id=\"T_e9d75_row10_col14\" class=\"data row10 col14\" >253</td>\n",
       "      <td id=\"T_e9d75_row10_col15\" class=\"data row10 col15\" >187</td>\n",
       "      <td id=\"T_e9d75_row10_col16\" class=\"data row10 col16\" >22</td>\n",
       "      <td id=\"T_e9d75_row10_col17\" class=\"data row10 col17\" >0</td>\n",
       "    </tr>\n",
       "  </tbody>\n",
       "</table>\n"
      ],
      "text/plain": [
       "<pandas.io.formats.style.Styler at 0x297211bd0>"
      ]
     },
     "execution_count": 10,
     "metadata": {},
     "output_type": "execute_result"
    }
   ],
   "source": [
    "#printing the number as an pandas dataframe\n",
    "\n",
    "im3_t = tensor(im3)\n",
    "df = pd.DataFrame(im3_t[4:15,4:22])\n",
    "df.style.set_properties(**{'font-size':'6pt'}).background_gradient('Greys')"
   ]
  },
  {
   "cell_type": "markdown",
   "id": "f858931c-69a5-4758-b151-dcbc60d10ce7",
   "metadata": {
    "jp-MarkdownHeadingCollapsed": true
   },
   "source": [
    "### Baseline Model"
   ]
  },
  {
   "cell_type": "code",
   "execution_count": 14,
   "id": "d90c1d5f-0d5d-441b-8e01-cf68eb91f8dd",
   "metadata": {},
   "outputs": [
    {
     "data": {
      "text/plain": [
       "(6131, 6265)"
      ]
     },
     "execution_count": 14,
     "metadata": {},
     "output_type": "execute_result"
    }
   ],
   "source": [
    "#Building a baseline model\n",
    "\n",
    "seven_tensors = [tensor(Image.open(o)) for o in sevens]\n",
    "three_tensors = [tensor(Image.open(o)) for o in threes]\n",
    "len(three_tensors), len(seven_tensors)"
   ]
  },
  {
   "cell_type": "code",
   "execution_count": 15,
   "id": "41ec412c-9adc-47ec-ad40-d14d7c519fa3",
   "metadata": {},
   "outputs": [
    {
     "data": {
      "text/plain": [
       "<Axes: >"
      ]
     },
     "execution_count": 15,
     "metadata": {},
     "output_type": "execute_result"
    },
    {
     "data": {
      "image/png": "[encoded data removed]",
      "text/plain": [
       "<Figure size 100x100 with 1 Axes>"
      ]
     },
     "metadata": {},
     "output_type": "display_data"
    }
   ],
   "source": [
    "show_image(three_tensors[1])"
   ]
  },
  {
   "cell_type": "code",
   "execution_count": 18,
   "id": "b92cbe13-221c-4d19-a5b3-144791222d92",
   "metadata": {},
   "outputs": [
    {
     "data": {
      "text/plain": [
       "torch.Size([6131, 28, 28])"
      ]
     },
     "execution_count": 18,
     "metadata": {},
     "output_type": "execute_result"
    }
   ],
   "source": [
    "#Stacking the tensors, converting them to float for certain operations \n",
    "#pixel values are expected to be between 0 and 1 (hence division by 255)\n",
    "\n",
    "stacked_threes = torch.stack(three_tensors).float()/255\n",
    "stacked_sevens = torch.stack(seven_tensors).float()/255\n",
    "\n",
    "stacked_threes.shape"
   ]
  },
  {
   "cell_type": "code",
   "execution_count": 20,
   "id": "e6eb8f21-59b3-451e-baee-ac811fa73da9",
   "metadata": {},
   "outputs": [
    {
     "data": {
      "image/png": "[encoded data removed]",
      "text/plain": [
       "<Figure size 100x100 with 1 Axes>"
      ]
     },
     "metadata": {},
     "output_type": "display_data"
    }
   ],
   "source": [
    "#calculating ideal 3 by taking mean of all images along dimension 0 (this acts as an index)\n",
    "\n",
    "mean3 = stacked_threes.mean(0)\n",
    "show_image(mean3);"
   ]
  },
  {
   "cell_type": "code",
   "execution_count": 21,
   "id": "4e162856-260d-4076-b6ff-9ca0756b75b9",
   "metadata": {},
   "outputs": [
    {
     "data": {
      "image/png": "[encoded data removed]",
      "text/plain": [
       "<Figure size 100x100 with 1 Axes>"
      ]
     },
     "metadata": {},
     "output_type": "display_data"
    }
   ],
   "source": [
    "mean7 = stacked_sevens.mean(0)\n",
    "show_image(mean7);"
   ]
  },
  {
   "cell_type": "code",
   "execution_count": 23,
   "id": "6d169359-359a-47e2-8239-f2465d1546ab",
   "metadata": {},
   "outputs": [
    {
     "data": {
      "image/png": "[encoded data removed]",
      "text/plain": [
       "<Figure size 100x100 with 1 Axes>"
      ]
     },
     "metadata": {},
     "output_type": "display_data"
    }
   ],
   "source": [
    "#Calculating the distnace from the ideal and a random sample\n",
    "\n",
    "a_3 = stacked_threes[1]\n",
    "show_image(a_3);"
   ]
  },
  {
   "cell_type": "code",
   "execution_count": 26,
   "id": "f10a683d-8fb4-44a9-b4b8-22547bbd75d4",
   "metadata": {},
   "outputs": [
    {
     "name": "stdout",
     "output_type": "stream",
     "text": [
      "L1 distance of the sample image: \n",
      "3 -  tensor(0.1114) \n",
      "7 -  tensor(0.1586)\n",
      "L2 distance of the sample image: \n",
      "3 -  tensor(0.2021) \n",
      "7 -  tensor(0.3021)\n"
     ]
    }
   ],
   "source": [
    "#L1 distance or Mean Absolute Difference\n",
    "\n",
    "dist_3_abs = (a_3 - mean3).abs().mean()\n",
    "dist_7_abs = (a_3 - mean7).abs().mean()\n",
    "print('L1 distance of the sample image: \\n3 - ',dist_3_abs,'\\n7 - ',dist_7_abs)\n",
    "#L2 distance or Mean Squared Error\n",
    "\n",
    "dist_3_sqrt = ((a_3 - mean3)**2).mean().sqrt()\n",
    "dist_7_sqrt = ((a_3 - mean7)**2).mean().sqrt()\n",
    "print('L2 distance of the sample image: \\n3 - ',dist_3_sqrt,'\\n7 - ',dist_7_sqrt)"
   ]
  },
  {
   "cell_type": "markdown",
   "id": "313229dd-11eb-4875-b918-cb31c2c96704",
   "metadata": {},
   "source": [
    "In the both L1 and L2 distances we can see that our sample image is closer to 3 than 7."
   ]
  },
  {
   "cell_type": "code",
   "execution_count": 27,
   "id": "498b8b99-7984-4693-869e-31cbfb421812",
   "metadata": {},
   "outputs": [
    {
     "data": {
      "text/plain": [
       "(tensor(0.1586), tensor(0.3021))"
      ]
     },
     "execution_count": 27,
     "metadata": {},
     "output_type": "execute_result"
    }
   ],
   "source": [
    "#Using PyTorch loss functions \n",
    "\n",
    "F.l1_loss(a_3.float(),mean7), F.mse_loss(a_3, mean7).sqrt()"
   ]
  },
  {
   "cell_type": "code",
   "execution_count": 31,
   "id": "fc3ad0ca-d34c-4435-9c21-1eea4f62e9ab",
   "metadata": {},
   "outputs": [
    {
     "data": {
      "text/plain": [
       "(torch.Size([1010, 28, 28]), torch.Size([1028, 28, 28]))"
      ]
     },
     "execution_count": 31,
     "metadata": {},
     "output_type": "execute_result"
    }
   ],
   "source": [
    "#Create a validation set\n",
    "\n",
    "valid_3_tens = torch.stack([tensor(Image.open(o)) for o in (path/'valid'/'3').ls()])\n",
    "valid_3_tens = valid_3_tens.float()/255\n",
    "\n",
    "valid_7_tens = torch.stack([tensor(Image.open(o)) for o in (path/'valid'/'7').ls()])\n",
    "valid_7_tens = valid_7_tens.float()/255\n",
    "\n",
    "valid_3_tens.shape, valid_7_tens.shape"
   ]
  },
  {
   "cell_type": "code",
   "execution_count": 33,
   "id": "42344027-4cb7-4aab-a2bc-0b9575ab949a",
   "metadata": {},
   "outputs": [],
   "source": [
    "#Function which calculates the distance \n",
    "\n",
    "def mnist_distance(a,b):\n",
    "    return (a-b).abs().mean((-1,-2))"
   ]
  },
  {
   "cell_type": "code",
   "execution_count": 35,
   "id": "ed3ff2b4-6162-4ed3-abbc-4ec5f444b22f",
   "metadata": {},
   "outputs": [
    {
     "data": {
      "text/plain": [
       "(tensor([0.1634, 0.1145, 0.1363,  ..., 0.1105, 0.1111, 0.1640]),\n",
       " torch.Size([1010]))"
      ]
     },
     "execution_count": 35,
     "metadata": {},
     "output_type": "execute_result"
    }
   ],
   "source": [
    "valid_3_dist = mnist_distance(valid_3_tens, mean3)\n",
    "\n",
    "valid_3_dist, valid_3_dist.shape"
   ]
  },
  {
   "cell_type": "code",
   "execution_count": 36,
   "id": "ec6b48c6-8d8b-47e6-92c0-fc572c5d7439",
   "metadata": {},
   "outputs": [],
   "source": [
    "# Check to see if the image is 3\n",
    "\n",
    "def is_3(x):\n",
    "    return mnist_distance(x, mean3) < mnist_distance(x, mean7)"
   ]
  },
  {
   "cell_type": "code",
   "execution_count": 38,
   "id": "da0c6119-219a-4289-bc35-32c1d8a59a97",
   "metadata": {},
   "outputs": [
    {
     "data": {
      "text/plain": [
       "(tensor(True), tensor(1.))"
      ]
     },
     "execution_count": 38,
     "metadata": {},
     "output_type": "execute_result"
    }
   ],
   "source": [
    "is_3(a_3), is_3(a_3).float()"
   ]
  },
  {
   "cell_type": "code",
   "execution_count": 39,
   "id": "8ac30af8-dd65-45ef-ae96-b8493530e386",
   "metadata": {},
   "outputs": [
    {
     "data": {
      "text/plain": [
       "tensor([True, True, True,  ..., True, True, True])"
      ]
     },
     "execution_count": 39,
     "metadata": {},
     "output_type": "execute_result"
    }
   ],
   "source": [
    "is_3(valid_3_tens)"
   ]
  },
  {
   "cell_type": "code",
   "execution_count": 41,
   "id": "70e29fee-1618-47a2-accc-7048f507bdcf",
   "metadata": {},
   "outputs": [
    {
     "data": {
      "text/plain": [
       "(tensor(0.9168), tensor(0.9854), tensor(0.9511))"
      ]
     },
     "execution_count": 41,
     "metadata": {},
     "output_type": "execute_result"
    }
   ],
   "source": [
    "#Calculating the accuracy\n",
    "\n",
    "accuracy_3s = is_3(valid_3_tens).float().mean()\n",
    "accuracy_7s = (1 - is_3(valid_7_tens).float()).mean()\n",
    "\n",
    "accuracy_3s, accuracy_7s, (accuracy_3s + accuracy_7s)/2"
   ]
  },
  {
   "cell_type": "markdown",
   "id": "68d7defa-b827-4bc6-8d85-5530e8c129f0",
   "metadata": {
    "jp-MarkdownHeadingCollapsed": true
   },
   "source": [
    "### Calculating gradients"
   ]
  },
  {
   "cell_type": "code",
   "execution_count": 14,
   "id": "37cc527e-c8e8-4f5d-aac4-ce7e6e159cc3",
   "metadata": {},
   "outputs": [],
   "source": [
    "#Calculating Gradients\n",
    "\n",
    "#define function\n",
    "def f(x): return x**2\n",
    "\n",
    "#Initialize tensor\n",
    "xt = tensor(3.).requires_grad_()"
   ]
  },
  {
   "cell_type": "markdown",
   "id": "81133970-d252-423e-904f-5e806ca563d2",
   "metadata": {},
   "source": [
    "```requires_grad_()``` method lets PyTorch know that we want to calculate gradients w.r.t to that variable at that value. "
   ]
  },
  {
   "cell_type": "code",
   "execution_count": 15,
   "id": "885398e3-3d84-4e76-b661-72c45d208105",
   "metadata": {},
   "outputs": [
    {
     "data": {
      "text/plain": [
       "tensor(9., grad_fn=<PowBackward0>)"
      ]
     },
     "execution_count": 15,
     "metadata": {},
     "output_type": "execute_result"
    }
   ],
   "source": [
    "yt = f(xt)\n",
    "yt"
   ]
  },
  {
   "cell_type": "markdown",
   "id": "d4ecfd6c-c1aa-4875-8fea-af4bb5691b20",
   "metadata": {},
   "source": [
    "3x3 is 9"
   ]
  },
  {
   "cell_type": "code",
   "execution_count": 16,
   "id": "4a4f4e26-f3dd-43b8-a7cf-c91caa67b867",
   "metadata": {},
   "outputs": [
    {
     "data": {
      "text/plain": [
       "tensor(6.)"
      ]
     },
     "execution_count": 16,
     "metadata": {},
     "output_type": "execute_result"
    }
   ],
   "source": [
    "#Backpropagation, basically \"calculate_grad\"\n",
    "yt.backward()\n",
    "\n",
    "#View the gradients\n",
    "xt.grad"
   ]
  },
  {
   "cell_type": "markdown",
   "id": "19f1ba58-aff7-4e61-9f5b-28f29e8d3e03",
   "metadata": {},
   "source": [
    "the derivate of x<sup>2</sup> is 2x<br>\n",
    "2 x 3 = 6"
   ]
  },
  {
   "cell_type": "code",
   "execution_count": 20,
   "id": "8bd87dab-d3b5-4e94-b005-c0a4969db580",
   "metadata": {},
   "outputs": [
    {
     "name": "stdout",
     "output_type": "stream",
     "text": [
      "tensor([ 3.,  4., 10.], requires_grad=True)\n",
      "tensor(125., grad_fn=<SumBackward0>)\n",
      "tensor([ 6.,  8., 20.])\n"
     ]
    }
   ],
   "source": [
    "#repeating above steps but for a vector argument\n",
    "\n",
    "xt = tensor([3.,4.,10.]).requires_grad_()\n",
    "print(xt)\n",
    "\n",
    "#function\n",
    "def f(x): return (x**2).sum()\n",
    "\n",
    "yt = f(xt)\n",
    "print(yt)\n",
    "\n",
    "#backprop\n",
    "yt.backward()\n",
    "print(xt.grad)"
   ]
  },
  {
   "cell_type": "markdown",
   "id": "8c5dbd4f-b0ca-41d1-aaec-71f6cce8895b",
   "metadata": {},
   "source": [
    "### Stochastic Gradient Descent example"
   ]
  },
  {
   "cell_type": "code",
   "execution_count": 40,
   "id": "265a33f8-bdad-4049-a8fb-8ae782c10fb9",
   "metadata": {},
   "outputs": [
    {
     "data": {
      "text/plain": [
       "tensor([ 0.,  1.,  2.,  3.,  4.,  5.,  6.,  7.,  8.,  9., 10., 11., 12., 13.,\n",
       "        14., 15., 16., 17., 18., 19.])"
      ]
     },
     "execution_count": 40,
     "metadata": {},
     "output_type": "execute_result"
    }
   ],
   "source": [
    "#End to end SGD example\n",
    "\n",
    "time = torch.arange(0,20).float();\n",
    "time"
   ]
  },
  {
   "cell_type": "code",
   "execution_count": 41,
   "id": "57574a8c-4fd2-4be2-aa23-e387327be9ee",
   "metadata": {},
   "outputs": [
    {
     "data": {
      "image/png": "[encoded data removed]",
      "text/plain": [
       "<Figure size 640x480 with 1 Axes>"
      ]
     },
     "metadata": {},
     "output_type": "display_data"
    }
   ],
   "source": [
    "speed = torch.randn(20)*3 + 0.75*(time - 9.5)**2 + 1\n",
    "plt.scatter(time,speed);"
   ]
  },
  {
   "cell_type": "code",
   "execution_count": 42,
   "id": "2940f635-5101-4c03-a230-d34be4e6c1a5",
   "metadata": {},
   "outputs": [
    {
     "data": {
      "image/png": "[encoded data removed]",
      "text/plain": [
       "<Figure size 640x480 with 1 Axes>"
      ]
     },
     "metadata": {},
     "output_type": "display_data"
    }
   ],
   "source": [
    "#function assumption \n",
    "def f(t, params):\n",
    "    a,b,c = params\n",
    "    return a*(t**2) + b*t + c\n",
    "\n",
    "#loss function\n",
    "def mse(preds, targets):\n",
    "    return ((preds - targets)**2).mean()\n",
    "\n",
    "#STEP 1 - Initialize the parameters\n",
    "params = torch.randn(3).requires_grad_()\n",
    "\n",
    "#STEP 2 - Calculate the predictions\n",
    "preds = f(time, params)\n",
    "\n",
    "def show_preds(preds, ax=None):\n",
    "    if ax is None: ax=plt.subplots()[1]\n",
    "    ax.scatter(time, speed)\n",
    "    ax.scatter(time, to_np(preds), color='red')\n",
    "    ax.set_ylim(-300, 100)\n",
    "\n",
    "show_preds(preds)"
   ]
  },
  {
   "cell_type": "code",
   "execution_count": 43,
   "id": "353ba3e1-50c1-435c-a99c-58574863da1b",
   "metadata": {},
   "outputs": [
    {
     "data": {
      "text/plain": [
       "tensor(108034.3750, grad_fn=<MeanBackward0>)"
      ]
     },
     "execution_count": 43,
     "metadata": {},
     "output_type": "execute_result"
    }
   ],
   "source": [
    "#STEP 3 - Calculate the loss\n",
    "loss = mse(preds, speed)\n",
    "loss"
   ]
  },
  {
   "cell_type": "code",
   "execution_count": 44,
   "id": "2cc03fa0-eb03-4479-95f1-dee91c2038b2",
   "metadata": {},
   "outputs": [
    {
     "name": "stdout",
     "output_type": "stream",
     "text": [
      "tensor([-109937.1406,   -7050.5098,    -500.3474])\n",
      "tensor([-1.8379,  0.3049,  0.0476], requires_grad=True)\n"
     ]
    }
   ],
   "source": [
    "#STEP 4 - Calculate the gradients\n",
    "loss.backward()\n",
    "print(params.grad)\n",
    "\n",
    "#Multiply by 1e-5 (learning rate)\n",
    "params.grad * 1e-5\n",
    "print(params)\n",
    "\n"
   ]
  },
  {
   "cell_type": "code",
   "execution_count": 45,
   "id": "05eb89ec-f4b4-4fdc-a802-9e7c49b58204",
   "metadata": {},
   "outputs": [],
   "source": [
    "#STEP 5 - Step the weights\n",
    "lr = 1e-5\n",
    "params.data -= lr * params.grad.data\n",
    "params.grad = None"
   ]
  },
  {
   "cell_type": "code",
   "execution_count": 49,
   "id": "2fb710c9-160f-40c8-b8c3-6cd054566fd1",
   "metadata": {},
   "outputs": [
    {
     "name": "stdout",
     "output_type": "stream",
     "text": [
      "tensor(20957.2305, grad_fn=<MeanBackward0>)\n"
     ]
    },
    {
     "data": {
      "image/png": "[encoded data removed]",
      "text/plain": [
       "<Figure size 640x480 with 1 Axes>"
      ]
     },
     "metadata": {},
     "output_type": "display_data"
    }
   ],
   "source": [
    "#After 1 step\n",
    "preds = f(time, params)\n",
    "print(mse(preds, speed))\n",
    "\n",
    "show_preds(preds)"
   ]
  },
  {
   "cell_type": "code",
   "execution_count": 50,
   "id": "288cad6d-95a0-4dac-8dfb-fde202b0ae5e",
   "metadata": {},
   "outputs": [],
   "source": [
    "#Create a function to apply one step\n",
    "\n",
    "def apply_step(params, show_loss=True):\n",
    "    preds = f(time, params)\n",
    "    loss = mse(speed, preds)\n",
    "    loss.backward()\n",
    "    params.data -= lr * params.grad.data\n",
    "    params.grad = None\n",
    "    if show_loss: print(loss.item())\n",
    "    return preds"
   ]
  },
  {
   "cell_type": "code",
   "execution_count": 51,
   "id": "bc37f281-96d0-44b1-b953-565447560392",
   "metadata": {},
   "outputs": [
    {
     "name": "stdout",
     "output_type": "stream",
     "text": [
      "20957.23046875\n",
      "4479.576171875\n",
      "1361.4986572265625\n",
      "771.4605712890625\n",
      "659.8046264648438\n",
      "638.6734008789062\n",
      "634.6719970703125\n",
      "633.9122314453125\n",
      "633.7658081054688\n",
      "633.7354736328125\n"
     ]
    }
   ],
   "source": [
    "#STEP 6 - Repeat the process \n",
    "for i in range(10): apply_step(params)"
   ]
  },
  {
   "cell_type": "code",
   "execution_count": null,
   "id": "f3b59d7e-ae3c-4093-bef8-197fc9f0544a",
   "metadata": {},
   "outputs": [],
   "source": [
    "#STEP 7 - STOP"
   ]
  },
  {
   "cell_type": "markdown",
   "id": "edc1abe9-2a6d-412f-9ad5-b543c43a42dd",
   "metadata": {},
   "source": [
    "We have arbitrarily decided to stop after 10 epochs but in reality we would watch the training and validation losses to decide when we stop."
   ]
  },
  {
   "cell_type": "code",
   "execution_count": null,
   "id": "85986f28-8bfd-4f11-a8c5-2c8ddb9f8760",
   "metadata": {},
   "outputs": [],
   "source": []
  }
 ],
 "metadata": {
  "kernelspec": {
   "display_name": "Python 3 (ipykernel)",
   "language": "python",
   "name": "python3"
  },
  "language_info": {
   "codemirror_mode": {
    "name": "ipython",
    "version": 3
   },
   "file_extension": ".py",
   "mimetype": "text/x-python",
   "name": "python",
   "nbconvert_exporter": "python",
   "pygments_lexer": "ipython3",
   "version": "3.11.9"
  }
 },
 "nbformat": 4,
 "nbformat_minor": 5
}
