{
 "cells": [
  {
   "cell_type": "code",
   "execution_count": 150,
   "id": "f22b62d1-de5d-4c66-88fd-ac39017a39db",
   "metadata": {},
   "outputs": [],
   "source": [
    "#imports \n",
    "\n",
    "from fastai.vision.all import *"
   ]
  },
  {
   "cell_type": "markdown",
   "id": "a9c8df04-7b3e-4c18-a4ce-7bf4f4cda564",
   "metadata": {
    "jp-MarkdownHeadingCollapsed": true
   },
   "source": [
    "### Pre-processing "
   ]
  },
  {
   "cell_type": "code",
   "execution_count": 64,
   "id": "473d389f-e8ae-4ac4-a944-862f6c93464e",
   "metadata": {},
   "outputs": [],
   "source": [
    "path = untar_data(URLs.MNIST_SAMPLE)"
   ]
  },
  {
   "cell_type": "code",
   "execution_count": 65,
   "id": "58b753ec-9c16-4e24-948b-bc44f07e2d40",
   "metadata": {},
   "outputs": [],
   "source": [
    "Path.BASE_PATH = path"
   ]
  },
  {
   "cell_type": "code",
   "execution_count": 66,
   "id": "d547dee4-8455-43d6-aaef-cddb6c54dec1",
   "metadata": {},
   "outputs": [
    {
     "data": {
      "text/plain": [
       "(#3) [Path('valid'),Path('labels.csv'),Path('train')]"
      ]
     },
     "execution_count": 66,
     "metadata": {},
     "output_type": "execute_result"
    }
   ],
   "source": [
    "path.ls()"
   ]
  },
  {
   "cell_type": "code",
   "execution_count": 67,
   "id": "91410005-58bb-4396-8675-71751cdfe920",
   "metadata": {},
   "outputs": [
    {
     "data": {
      "text/plain": [
       "(#2) [Path('train/7'),Path('train/3')]"
      ]
     },
     "execution_count": 67,
     "metadata": {},
     "output_type": "execute_result"
    }
   ],
   "source": [
    "#preview training set\n",
    "(path/'train').ls()"
   ]
  },
  {
   "cell_type": "code",
   "execution_count": 68,
   "id": "6927d865-6802-4c79-82b5-9dcb7af280b3",
   "metadata": {},
   "outputs": [
    {
     "data": {
      "text/plain": [
       "(#6131) [Path('train/3/10.png'),Path('train/3/10000.png'),Path('train/3/10011.png'),Path('train/3/10031.png'),Path('train/3/10034.png'),Path('train/3/10042.png'),Path('train/3/10052.png'),Path('train/3/1007.png'),Path('train/3/10074.png'),Path('train/3/10091.png')...]"
      ]
     },
     "execution_count": 68,
     "metadata": {},
     "output_type": "execute_result"
    }
   ],
   "source": [
    "threes  = (path/'train'/'3').ls().sorted()\n",
    "sevens  = (path/'train'/'7').ls().sorted()\n",
    "threes"
   ]
  },
  {
   "cell_type": "code",
   "execution_count": 69,
   "id": "311b208c-9aaa-4267-8c85-92cf6234cb60",
   "metadata": {},
   "outputs": [
    {
     "data": {
      "image/jpeg": "[encoded data removed]",
      "image/png": "[encoded data removed]",
      "text/plain": [
       "<PIL.PngImagePlugin.PngImageFile image mode=L size=28x28>"
      ]
     },
     "execution_count": 69,
     "metadata": {},
     "output_type": "execute_result"
    }
   ],
   "source": [
    "im3_path = threes[1]\n",
    "im3 = Image.open(im3_path)\n",
    "im3"
   ]
  },
  {
   "cell_type": "code",
   "execution_count": 70,
   "id": "2d1e69ad-8d90-4c5e-9621-ec967fa6e8f5",
   "metadata": {},
   "outputs": [
    {
     "data": {
      "text/plain": [
       "array([[  0,   0,   0,   0,   0,   0],\n",
       "       [  0,   0,   0,   0,   0,  29],\n",
       "       [  0,   0,   0,  48, 166, 224],\n",
       "       [  0,  93, 244, 249, 253, 187],\n",
       "       [  0, 107, 253, 253, 230,  48],\n",
       "       [  0,   3,  20,  20,  15,   0]], dtype=uint8)"
      ]
     },
     "execution_count": 70,
     "metadata": {},
     "output_type": "execute_result"
    }
   ],
   "source": [
    "#Slicing the image after converting to array\n",
    "array(im3)[4:10,4:10]"
   ]
  },
  {
   "cell_type": "code",
   "execution_count": 71,
   "id": "aafd6daf-51bc-463e-b579-9fc8763ff5a9",
   "metadata": {},
   "outputs": [
    {
     "data": {
      "text/plain": [
       "tensor([[  0,   0,   0,   0,   0,   0],\n",
       "        [  0,   0,   0,   0,   0,  29],\n",
       "        [  0,   0,   0,  48, 166, 224],\n",
       "        [  0,  93, 244, 249, 253, 187],\n",
       "        [  0, 107, 253, 253, 230,  48],\n",
       "        [  0,   3,  20,  20,  15,   0]], dtype=torch.uint8)"
      ]
     },
     "execution_count": 71,
     "metadata": {},
     "output_type": "execute_result"
    }
   ],
   "source": [
    "#Slicing the tensor\n",
    "tensor(im3)[4:10,4:10]"
   ]
  },
  {
   "cell_type": "code",
   "execution_count": 72,
   "id": "d3301ae6-4494-480b-a5c9-f8fd2f0a9a51",
   "metadata": {},
   "outputs": [
    {
     "data": {
      "text/html": [
       "<style type=\"text/css\">\n",
       "#T_d2ba4_row0_col0, #T_d2ba4_row0_col1, #T_d2ba4_row0_col2, #T_d2ba4_row0_col3, #T_d2ba4_row0_col4, #T_d2ba4_row0_col5, #T_d2ba4_row0_col6, #T_d2ba4_row0_col7, #T_d2ba4_row0_col8, #T_d2ba4_row0_col9, #T_d2ba4_row0_col10, #T_d2ba4_row0_col11, #T_d2ba4_row0_col12, #T_d2ba4_row0_col13, #T_d2ba4_row0_col14, #T_d2ba4_row0_col15, #T_d2ba4_row0_col16, #T_d2ba4_row0_col17, #T_d2ba4_row1_col0, #T_d2ba4_row1_col1, #T_d2ba4_row1_col2, #T_d2ba4_row1_col3, #T_d2ba4_row1_col4, #T_d2ba4_row1_col15, #T_d2ba4_row1_col16, #T_d2ba4_row1_col17, #T_d2ba4_row2_col0, #T_d2ba4_row2_col1, #T_d2ba4_row2_col2, #T_d2ba4_row2_col15, #T_d2ba4_row2_col16, #T_d2ba4_row2_col17, #T_d2ba4_row3_col0, #T_d2ba4_row3_col15, #T_d2ba4_row3_col16, #T_d2ba4_row3_col17, #T_d2ba4_row4_col0, #T_d2ba4_row4_col6, #T_d2ba4_row4_col7, #T_d2ba4_row4_col8, #T_d2ba4_row4_col9, #T_d2ba4_row4_col10, #T_d2ba4_row4_col15, #T_d2ba4_row4_col16, #T_d2ba4_row4_col17, #T_d2ba4_row5_col0, #T_d2ba4_row5_col5, #T_d2ba4_row5_col6, #T_d2ba4_row5_col7, #T_d2ba4_row5_col8, #T_d2ba4_row5_col9, #T_d2ba4_row5_col15, #T_d2ba4_row5_col16, #T_d2ba4_row5_col17, #T_d2ba4_row6_col0, #T_d2ba4_row6_col1, #T_d2ba4_row6_col2, #T_d2ba4_row6_col3, #T_d2ba4_row6_col4, #T_d2ba4_row6_col5, #T_d2ba4_row6_col6, #T_d2ba4_row6_col7, #T_d2ba4_row6_col8, #T_d2ba4_row6_col9, #T_d2ba4_row6_col14, #T_d2ba4_row6_col15, #T_d2ba4_row6_col16, #T_d2ba4_row6_col17, #T_d2ba4_row7_col0, #T_d2ba4_row7_col1, #T_d2ba4_row7_col2, #T_d2ba4_row7_col3, #T_d2ba4_row7_col4, #T_d2ba4_row7_col5, #T_d2ba4_row7_col6, #T_d2ba4_row7_col13, #T_d2ba4_row7_col14, #T_d2ba4_row7_col15, #T_d2ba4_row7_col16, #T_d2ba4_row7_col17, #T_d2ba4_row8_col0, #T_d2ba4_row8_col1, #T_d2ba4_row8_col2, #T_d2ba4_row8_col3, #T_d2ba4_row8_col4, #T_d2ba4_row8_col13, #T_d2ba4_row8_col14, #T_d2ba4_row8_col15, #T_d2ba4_row8_col16, #T_d2ba4_row8_col17, #T_d2ba4_row9_col0, #T_d2ba4_row9_col1, #T_d2ba4_row9_col2, #T_d2ba4_row9_col3, #T_d2ba4_row9_col4, #T_d2ba4_row9_col16, #T_d2ba4_row9_col17, #T_d2ba4_row10_col0, #T_d2ba4_row10_col1, #T_d2ba4_row10_col2, #T_d2ba4_row10_col3, #T_d2ba4_row10_col4, #T_d2ba4_row10_col5, #T_d2ba4_row10_col6, #T_d2ba4_row10_col17 {\n",
       "  font-size: 6pt;\n",
       "  background-color: #ffffff;\n",
       "  color: #000000;\n",
       "}\n",
       "#T_d2ba4_row1_col5 {\n",
       "  font-size: 6pt;\n",
       "  background-color: #efefef;\n",
       "  color: #000000;\n",
       "}\n",
       "#T_d2ba4_row1_col6, #T_d2ba4_row1_col13 {\n",
       "  font-size: 6pt;\n",
       "  background-color: #7c7c7c;\n",
       "  color: #f1f1f1;\n",
       "}\n",
       "#T_d2ba4_row1_col7 {\n",
       "  font-size: 6pt;\n",
       "  background-color: #4a4a4a;\n",
       "  color: #f1f1f1;\n",
       "}\n",
       "#T_d2ba4_row1_col8, #T_d2ba4_row1_col9, #T_d2ba4_row1_col10, #T_d2ba4_row2_col5, #T_d2ba4_row2_col6, #T_d2ba4_row2_col7, #T_d2ba4_row2_col11, #T_d2ba4_row2_col12, #T_d2ba4_row2_col13, #T_d2ba4_row3_col4, #T_d2ba4_row3_col12, #T_d2ba4_row3_col13, #T_d2ba4_row4_col1, #T_d2ba4_row4_col2, #T_d2ba4_row4_col3, #T_d2ba4_row4_col12, #T_d2ba4_row4_col13, #T_d2ba4_row5_col12, #T_d2ba4_row6_col11, #T_d2ba4_row9_col11, #T_d2ba4_row10_col11, #T_d2ba4_row10_col12, #T_d2ba4_row10_col13, #T_d2ba4_row10_col14, #T_d2ba4_row10_col15, #T_d2ba4_row10_col16 {\n",
       "  font-size: 6pt;\n",
       "  background-color: #000000;\n",
       "  color: #f1f1f1;\n",
       "}\n",
       "#T_d2ba4_row1_col11 {\n",
       "  font-size: 6pt;\n",
       "  background-color: #606060;\n",
       "  color: #f1f1f1;\n",
       "}\n",
       "#T_d2ba4_row1_col12 {\n",
       "  font-size: 6pt;\n",
       "  background-color: #4d4d4d;\n",
       "  color: #f1f1f1;\n",
       "}\n",
       "#T_d2ba4_row1_col14 {\n",
       "  font-size: 6pt;\n",
       "  background-color: #bbbbbb;\n",
       "  color: #000000;\n",
       "}\n",
       "#T_d2ba4_row2_col3 {\n",
       "  font-size: 6pt;\n",
       "  background-color: #e4e4e4;\n",
       "  color: #000000;\n",
       "}\n",
       "#T_d2ba4_row2_col4, #T_d2ba4_row8_col6 {\n",
       "  font-size: 6pt;\n",
       "  background-color: #6b6b6b;\n",
       "  color: #f1f1f1;\n",
       "}\n",
       "#T_d2ba4_row2_col8, #T_d2ba4_row2_col14, #T_d2ba4_row3_col14 {\n",
       "  font-size: 6pt;\n",
       "  background-color: #171717;\n",
       "  color: #f1f1f1;\n",
       "}\n",
       "#T_d2ba4_row2_col9, #T_d2ba4_row3_col11 {\n",
       "  font-size: 6pt;\n",
       "  background-color: #4b4b4b;\n",
       "  color: #f1f1f1;\n",
       "}\n",
       "#T_d2ba4_row2_col10, #T_d2ba4_row7_col10, #T_d2ba4_row8_col8, #T_d2ba4_row8_col10, #T_d2ba4_row9_col8, #T_d2ba4_row9_col10 {\n",
       "  font-size: 6pt;\n",
       "  background-color: #010101;\n",
       "  color: #f1f1f1;\n",
       "}\n",
       "#T_d2ba4_row3_col1 {\n",
       "  font-size: 6pt;\n",
       "  background-color: #272727;\n",
       "  color: #f1f1f1;\n",
       "}\n",
       "#T_d2ba4_row3_col2 {\n",
       "  font-size: 6pt;\n",
       "  background-color: #0a0a0a;\n",
       "  color: #f1f1f1;\n",
       "}\n",
       "#T_d2ba4_row3_col3 {\n",
       "  font-size: 6pt;\n",
       "  background-color: #050505;\n",
       "  color: #f1f1f1;\n",
       "}\n",
       "#T_d2ba4_row3_col5 {\n",
       "  font-size: 6pt;\n",
       "  background-color: #333333;\n",
       "  color: #f1f1f1;\n",
       "}\n",
       "#T_d2ba4_row3_col6 {\n",
       "  font-size: 6pt;\n",
       "  background-color: #e6e6e6;\n",
       "  color: #000000;\n",
       "}\n",
       "#T_d2ba4_row3_col7, #T_d2ba4_row3_col10 {\n",
       "  font-size: 6pt;\n",
       "  background-color: #fafafa;\n",
       "  color: #000000;\n",
       "}\n",
       "#T_d2ba4_row3_col8 {\n",
       "  font-size: 6pt;\n",
       "  background-color: #fbfbfb;\n",
       "  color: #000000;\n",
       "}\n",
       "#T_d2ba4_row3_col9 {\n",
       "  font-size: 6pt;\n",
       "  background-color: #fdfdfd;\n",
       "  color: #000000;\n",
       "}\n",
       "#T_d2ba4_row4_col4 {\n",
       "  font-size: 6pt;\n",
       "  background-color: #1b1b1b;\n",
       "  color: #f1f1f1;\n",
       "}\n",
       "#T_d2ba4_row4_col5 {\n",
       "  font-size: 6pt;\n",
       "  background-color: #e0e0e0;\n",
       "  color: #000000;\n",
       "}\n",
       "#T_d2ba4_row4_col11 {\n",
       "  font-size: 6pt;\n",
       "  background-color: #4e4e4e;\n",
       "  color: #f1f1f1;\n",
       "}\n",
       "#T_d2ba4_row4_col14 {\n",
       "  font-size: 6pt;\n",
       "  background-color: #767676;\n",
       "  color: #f1f1f1;\n",
       "}\n",
       "#T_d2ba4_row5_col1 {\n",
       "  font-size: 6pt;\n",
       "  background-color: #fcfcfc;\n",
       "  color: #000000;\n",
       "}\n",
       "#T_d2ba4_row5_col2, #T_d2ba4_row5_col3 {\n",
       "  font-size: 6pt;\n",
       "  background-color: #f6f6f6;\n",
       "  color: #000000;\n",
       "}\n",
       "#T_d2ba4_row5_col4, #T_d2ba4_row7_col7 {\n",
       "  font-size: 6pt;\n",
       "  background-color: #f8f8f8;\n",
       "  color: #000000;\n",
       "}\n",
       "#T_d2ba4_row5_col10, #T_d2ba4_row10_col7 {\n",
       "  font-size: 6pt;\n",
       "  background-color: #e8e8e8;\n",
       "  color: #000000;\n",
       "}\n",
       "#T_d2ba4_row5_col11 {\n",
       "  font-size: 6pt;\n",
       "  background-color: #222222;\n",
       "  color: #f1f1f1;\n",
       "}\n",
       "#T_d2ba4_row5_col13, #T_d2ba4_row6_col12 {\n",
       "  font-size: 6pt;\n",
       "  background-color: #090909;\n",
       "  color: #f1f1f1;\n",
       "}\n",
       "#T_d2ba4_row5_col14 {\n",
       "  font-size: 6pt;\n",
       "  background-color: #d0d0d0;\n",
       "  color: #000000;\n",
       "}\n",
       "#T_d2ba4_row6_col10, #T_d2ba4_row7_col11, #T_d2ba4_row9_col6 {\n",
       "  font-size: 6pt;\n",
       "  background-color: #060606;\n",
       "  color: #f1f1f1;\n",
       "}\n",
       "#T_d2ba4_row6_col13 {\n",
       "  font-size: 6pt;\n",
       "  background-color: #979797;\n",
       "  color: #f1f1f1;\n",
       "}\n",
       "#T_d2ba4_row7_col8 {\n",
       "  font-size: 6pt;\n",
       "  background-color: #b6b6b6;\n",
       "  color: #000000;\n",
       "}\n",
       "#T_d2ba4_row7_col9 {\n",
       "  font-size: 6pt;\n",
       "  background-color: #252525;\n",
       "  color: #f1f1f1;\n",
       "}\n",
       "#T_d2ba4_row7_col12 {\n",
       "  font-size: 6pt;\n",
       "  background-color: #999999;\n",
       "  color: #f1f1f1;\n",
       "}\n",
       "#T_d2ba4_row8_col5 {\n",
       "  font-size: 6pt;\n",
       "  background-color: #f9f9f9;\n",
       "  color: #000000;\n",
       "}\n",
       "#T_d2ba4_row8_col7 {\n",
       "  font-size: 6pt;\n",
       "  background-color: #101010;\n",
       "  color: #f1f1f1;\n",
       "}\n",
       "#T_d2ba4_row8_col9, #T_d2ba4_row9_col9 {\n",
       "  font-size: 6pt;\n",
       "  background-color: #020202;\n",
       "  color: #f1f1f1;\n",
       "}\n",
       "#T_d2ba4_row8_col11 {\n",
       "  font-size: 6pt;\n",
       "  background-color: #545454;\n",
       "  color: #f1f1f1;\n",
       "}\n",
       "#T_d2ba4_row8_col12 {\n",
       "  font-size: 6pt;\n",
       "  background-color: #f1f1f1;\n",
       "  color: #000000;\n",
       "}\n",
       "#T_d2ba4_row9_col5 {\n",
       "  font-size: 6pt;\n",
       "  background-color: #f7f7f7;\n",
       "  color: #000000;\n",
       "}\n",
       "#T_d2ba4_row9_col7 {\n",
       "  font-size: 6pt;\n",
       "  background-color: #030303;\n",
       "  color: #f1f1f1;\n",
       "}\n",
       "#T_d2ba4_row9_col12 {\n",
       "  font-size: 6pt;\n",
       "  background-color: #181818;\n",
       "  color: #f1f1f1;\n",
       "}\n",
       "#T_d2ba4_row9_col13 {\n",
       "  font-size: 6pt;\n",
       "  background-color: #303030;\n",
       "  color: #f1f1f1;\n",
       "}\n",
       "#T_d2ba4_row9_col14 {\n",
       "  font-size: 6pt;\n",
       "  background-color: #a9a9a9;\n",
       "  color: #f1f1f1;\n",
       "}\n",
       "#T_d2ba4_row9_col15 {\n",
       "  font-size: 6pt;\n",
       "  background-color: #fefefe;\n",
       "  color: #000000;\n",
       "}\n",
       "#T_d2ba4_row10_col8, #T_d2ba4_row10_col9 {\n",
       "  font-size: 6pt;\n",
       "  background-color: #bababa;\n",
       "  color: #000000;\n",
       "}\n",
       "#T_d2ba4_row10_col10 {\n",
       "  font-size: 6pt;\n",
       "  background-color: #393939;\n",
       "  color: #f1f1f1;\n",
       "}\n",
       "</style>\n",
       "<table id=\"T_d2ba4\">\n",
       "  <thead>\n",
       "    <tr>\n",
       "      <th class=\"blank level0\" >&nbsp;</th>\n",
       "      <th id=\"T_d2ba4_level0_col0\" class=\"col_heading level0 col0\" >0</th>\n",
       "      <th id=\"T_d2ba4_level0_col1\" class=\"col_heading level0 col1\" >1</th>\n",
       "      <th id=\"T_d2ba4_level0_col2\" class=\"col_heading level0 col2\" >2</th>\n",
       "      <th id=\"T_d2ba4_level0_col3\" class=\"col_heading level0 col3\" >3</th>\n",
       "      <th id=\"T_d2ba4_level0_col4\" class=\"col_heading level0 col4\" >4</th>\n",
       "      <th id=\"T_d2ba4_level0_col5\" class=\"col_heading level0 col5\" >5</th>\n",
       "      <th id=\"T_d2ba4_level0_col6\" class=\"col_heading level0 col6\" >6</th>\n",
       "      <th id=\"T_d2ba4_level0_col7\" class=\"col_heading level0 col7\" >7</th>\n",
       "      <th id=\"T_d2ba4_level0_col8\" class=\"col_heading level0 col8\" >8</th>\n",
       "      <th id=\"T_d2ba4_level0_col9\" class=\"col_heading level0 col9\" >9</th>\n",
       "      <th id=\"T_d2ba4_level0_col10\" class=\"col_heading level0 col10\" >10</th>\n",
       "      <th id=\"T_d2ba4_level0_col11\" class=\"col_heading level0 col11\" >11</th>\n",
       "      <th id=\"T_d2ba4_level0_col12\" class=\"col_heading level0 col12\" >12</th>\n",
       "      <th id=\"T_d2ba4_level0_col13\" class=\"col_heading level0 col13\" >13</th>\n",
       "      <th id=\"T_d2ba4_level0_col14\" class=\"col_heading level0 col14\" >14</th>\n",
       "      <th id=\"T_d2ba4_level0_col15\" class=\"col_heading level0 col15\" >15</th>\n",
       "      <th id=\"T_d2ba4_level0_col16\" class=\"col_heading level0 col16\" >16</th>\n",
       "      <th id=\"T_d2ba4_level0_col17\" class=\"col_heading level0 col17\" >17</th>\n",
       "    </tr>\n",
       "  </thead>\n",
       "  <tbody>\n",
       "    <tr>\n",
       "      <th id=\"T_d2ba4_level0_row0\" class=\"row_heading level0 row0\" >0</th>\n",
       "      <td id=\"T_d2ba4_row0_col0\" class=\"data row0 col0\" >0</td>\n",
       "      <td id=\"T_d2ba4_row0_col1\" class=\"data row0 col1\" >0</td>\n",
       "      <td id=\"T_d2ba4_row0_col2\" class=\"data row0 col2\" >0</td>\n",
       "      <td id=\"T_d2ba4_row0_col3\" class=\"data row0 col3\" >0</td>\n",
       "      <td id=\"T_d2ba4_row0_col4\" class=\"data row0 col4\" >0</td>\n",
       "      <td id=\"T_d2ba4_row0_col5\" class=\"data row0 col5\" >0</td>\n",
       "      <td id=\"T_d2ba4_row0_col6\" class=\"data row0 col6\" >0</td>\n",
       "      <td id=\"T_d2ba4_row0_col7\" class=\"data row0 col7\" >0</td>\n",
       "      <td id=\"T_d2ba4_row0_col8\" class=\"data row0 col8\" >0</td>\n",
       "      <td id=\"T_d2ba4_row0_col9\" class=\"data row0 col9\" >0</td>\n",
       "      <td id=\"T_d2ba4_row0_col10\" class=\"data row0 col10\" >0</td>\n",
       "      <td id=\"T_d2ba4_row0_col11\" class=\"data row0 col11\" >0</td>\n",
       "      <td id=\"T_d2ba4_row0_col12\" class=\"data row0 col12\" >0</td>\n",
       "      <td id=\"T_d2ba4_row0_col13\" class=\"data row0 col13\" >0</td>\n",
       "      <td id=\"T_d2ba4_row0_col14\" class=\"data row0 col14\" >0</td>\n",
       "      <td id=\"T_d2ba4_row0_col15\" class=\"data row0 col15\" >0</td>\n",
       "      <td id=\"T_d2ba4_row0_col16\" class=\"data row0 col16\" >0</td>\n",
       "      <td id=\"T_d2ba4_row0_col17\" class=\"data row0 col17\" >0</td>\n",
       "    </tr>\n",
       "    <tr>\n",
       "      <th id=\"T_d2ba4_level0_row1\" class=\"row_heading level0 row1\" >1</th>\n",
       "      <td id=\"T_d2ba4_row1_col0\" class=\"data row1 col0\" >0</td>\n",
       "      <td id=\"T_d2ba4_row1_col1\" class=\"data row1 col1\" >0</td>\n",
       "      <td id=\"T_d2ba4_row1_col2\" class=\"data row1 col2\" >0</td>\n",
       "      <td id=\"T_d2ba4_row1_col3\" class=\"data row1 col3\" >0</td>\n",
       "      <td id=\"T_d2ba4_row1_col4\" class=\"data row1 col4\" >0</td>\n",
       "      <td id=\"T_d2ba4_row1_col5\" class=\"data row1 col5\" >29</td>\n",
       "      <td id=\"T_d2ba4_row1_col6\" class=\"data row1 col6\" >150</td>\n",
       "      <td id=\"T_d2ba4_row1_col7\" class=\"data row1 col7\" >195</td>\n",
       "      <td id=\"T_d2ba4_row1_col8\" class=\"data row1 col8\" >254</td>\n",
       "      <td id=\"T_d2ba4_row1_col9\" class=\"data row1 col9\" >255</td>\n",
       "      <td id=\"T_d2ba4_row1_col10\" class=\"data row1 col10\" >254</td>\n",
       "      <td id=\"T_d2ba4_row1_col11\" class=\"data row1 col11\" >176</td>\n",
       "      <td id=\"T_d2ba4_row1_col12\" class=\"data row1 col12\" >193</td>\n",
       "      <td id=\"T_d2ba4_row1_col13\" class=\"data row1 col13\" >150</td>\n",
       "      <td id=\"T_d2ba4_row1_col14\" class=\"data row1 col14\" >96</td>\n",
       "      <td id=\"T_d2ba4_row1_col15\" class=\"data row1 col15\" >0</td>\n",
       "      <td id=\"T_d2ba4_row1_col16\" class=\"data row1 col16\" >0</td>\n",
       "      <td id=\"T_d2ba4_row1_col17\" class=\"data row1 col17\" >0</td>\n",
       "    </tr>\n",
       "    <tr>\n",
       "      <th id=\"T_d2ba4_level0_row2\" class=\"row_heading level0 row2\" >2</th>\n",
       "      <td id=\"T_d2ba4_row2_col0\" class=\"data row2 col0\" >0</td>\n",
       "      <td id=\"T_d2ba4_row2_col1\" class=\"data row2 col1\" >0</td>\n",
       "      <td id=\"T_d2ba4_row2_col2\" class=\"data row2 col2\" >0</td>\n",
       "      <td id=\"T_d2ba4_row2_col3\" class=\"data row2 col3\" >48</td>\n",
       "      <td id=\"T_d2ba4_row2_col4\" class=\"data row2 col4\" >166</td>\n",
       "      <td id=\"T_d2ba4_row2_col5\" class=\"data row2 col5\" >224</td>\n",
       "      <td id=\"T_d2ba4_row2_col6\" class=\"data row2 col6\" >253</td>\n",
       "      <td id=\"T_d2ba4_row2_col7\" class=\"data row2 col7\" >253</td>\n",
       "      <td id=\"T_d2ba4_row2_col8\" class=\"data row2 col8\" >234</td>\n",
       "      <td id=\"T_d2ba4_row2_col9\" class=\"data row2 col9\" >196</td>\n",
       "      <td id=\"T_d2ba4_row2_col10\" class=\"data row2 col10\" >253</td>\n",
       "      <td id=\"T_d2ba4_row2_col11\" class=\"data row2 col11\" >253</td>\n",
       "      <td id=\"T_d2ba4_row2_col12\" class=\"data row2 col12\" >253</td>\n",
       "      <td id=\"T_d2ba4_row2_col13\" class=\"data row2 col13\" >253</td>\n",
       "      <td id=\"T_d2ba4_row2_col14\" class=\"data row2 col14\" >233</td>\n",
       "      <td id=\"T_d2ba4_row2_col15\" class=\"data row2 col15\" >0</td>\n",
       "      <td id=\"T_d2ba4_row2_col16\" class=\"data row2 col16\" >0</td>\n",
       "      <td id=\"T_d2ba4_row2_col17\" class=\"data row2 col17\" >0</td>\n",
       "    </tr>\n",
       "    <tr>\n",
       "      <th id=\"T_d2ba4_level0_row3\" class=\"row_heading level0 row3\" >3</th>\n",
       "      <td id=\"T_d2ba4_row3_col0\" class=\"data row3 col0\" >0</td>\n",
       "      <td id=\"T_d2ba4_row3_col1\" class=\"data row3 col1\" >93</td>\n",
       "      <td id=\"T_d2ba4_row3_col2\" class=\"data row3 col2\" >244</td>\n",
       "      <td id=\"T_d2ba4_row3_col3\" class=\"data row3 col3\" >249</td>\n",
       "      <td id=\"T_d2ba4_row3_col4\" class=\"data row3 col4\" >253</td>\n",
       "      <td id=\"T_d2ba4_row3_col5\" class=\"data row3 col5\" >187</td>\n",
       "      <td id=\"T_d2ba4_row3_col6\" class=\"data row3 col6\" >46</td>\n",
       "      <td id=\"T_d2ba4_row3_col7\" class=\"data row3 col7\" >10</td>\n",
       "      <td id=\"T_d2ba4_row3_col8\" class=\"data row3 col8\" >8</td>\n",
       "      <td id=\"T_d2ba4_row3_col9\" class=\"data row3 col9\" >4</td>\n",
       "      <td id=\"T_d2ba4_row3_col10\" class=\"data row3 col10\" >10</td>\n",
       "      <td id=\"T_d2ba4_row3_col11\" class=\"data row3 col11\" >194</td>\n",
       "      <td id=\"T_d2ba4_row3_col12\" class=\"data row3 col12\" >253</td>\n",
       "      <td id=\"T_d2ba4_row3_col13\" class=\"data row3 col13\" >253</td>\n",
       "      <td id=\"T_d2ba4_row3_col14\" class=\"data row3 col14\" >233</td>\n",
       "      <td id=\"T_d2ba4_row3_col15\" class=\"data row3 col15\" >0</td>\n",
       "      <td id=\"T_d2ba4_row3_col16\" class=\"data row3 col16\" >0</td>\n",
       "      <td id=\"T_d2ba4_row3_col17\" class=\"data row3 col17\" >0</td>\n",
       "    </tr>\n",
       "    <tr>\n",
       "      <th id=\"T_d2ba4_level0_row4\" class=\"row_heading level0 row4\" >4</th>\n",
       "      <td id=\"T_d2ba4_row4_col0\" class=\"data row4 col0\" >0</td>\n",
       "      <td id=\"T_d2ba4_row4_col1\" class=\"data row4 col1\" >107</td>\n",
       "      <td id=\"T_d2ba4_row4_col2\" class=\"data row4 col2\" >253</td>\n",
       "      <td id=\"T_d2ba4_row4_col3\" class=\"data row4 col3\" >253</td>\n",
       "      <td id=\"T_d2ba4_row4_col4\" class=\"data row4 col4\" >230</td>\n",
       "      <td id=\"T_d2ba4_row4_col5\" class=\"data row4 col5\" >48</td>\n",
       "      <td id=\"T_d2ba4_row4_col6\" class=\"data row4 col6\" >0</td>\n",
       "      <td id=\"T_d2ba4_row4_col7\" class=\"data row4 col7\" >0</td>\n",
       "      <td id=\"T_d2ba4_row4_col8\" class=\"data row4 col8\" >0</td>\n",
       "      <td id=\"T_d2ba4_row4_col9\" class=\"data row4 col9\" >0</td>\n",
       "      <td id=\"T_d2ba4_row4_col10\" class=\"data row4 col10\" >0</td>\n",
       "      <td id=\"T_d2ba4_row4_col11\" class=\"data row4 col11\" >192</td>\n",
       "      <td id=\"T_d2ba4_row4_col12\" class=\"data row4 col12\" >253</td>\n",
       "      <td id=\"T_d2ba4_row4_col13\" class=\"data row4 col13\" >253</td>\n",
       "      <td id=\"T_d2ba4_row4_col14\" class=\"data row4 col14\" >156</td>\n",
       "      <td id=\"T_d2ba4_row4_col15\" class=\"data row4 col15\" >0</td>\n",
       "      <td id=\"T_d2ba4_row4_col16\" class=\"data row4 col16\" >0</td>\n",
       "      <td id=\"T_d2ba4_row4_col17\" class=\"data row4 col17\" >0</td>\n",
       "    </tr>\n",
       "    <tr>\n",
       "      <th id=\"T_d2ba4_level0_row5\" class=\"row_heading level0 row5\" >5</th>\n",
       "      <td id=\"T_d2ba4_row5_col0\" class=\"data row5 col0\" >0</td>\n",
       "      <td id=\"T_d2ba4_row5_col1\" class=\"data row5 col1\" >3</td>\n",
       "      <td id=\"T_d2ba4_row5_col2\" class=\"data row5 col2\" >20</td>\n",
       "      <td id=\"T_d2ba4_row5_col3\" class=\"data row5 col3\" >20</td>\n",
       "      <td id=\"T_d2ba4_row5_col4\" class=\"data row5 col4\" >15</td>\n",
       "      <td id=\"T_d2ba4_row5_col5\" class=\"data row5 col5\" >0</td>\n",
       "      <td id=\"T_d2ba4_row5_col6\" class=\"data row5 col6\" >0</td>\n",
       "      <td id=\"T_d2ba4_row5_col7\" class=\"data row5 col7\" >0</td>\n",
       "      <td id=\"T_d2ba4_row5_col8\" class=\"data row5 col8\" >0</td>\n",
       "      <td id=\"T_d2ba4_row5_col9\" class=\"data row5 col9\" >0</td>\n",
       "      <td id=\"T_d2ba4_row5_col10\" class=\"data row5 col10\" >43</td>\n",
       "      <td id=\"T_d2ba4_row5_col11\" class=\"data row5 col11\" >224</td>\n",
       "      <td id=\"T_d2ba4_row5_col12\" class=\"data row5 col12\" >253</td>\n",
       "      <td id=\"T_d2ba4_row5_col13\" class=\"data row5 col13\" >245</td>\n",
       "      <td id=\"T_d2ba4_row5_col14\" class=\"data row5 col14\" >74</td>\n",
       "      <td id=\"T_d2ba4_row5_col15\" class=\"data row5 col15\" >0</td>\n",
       "      <td id=\"T_d2ba4_row5_col16\" class=\"data row5 col16\" >0</td>\n",
       "      <td id=\"T_d2ba4_row5_col17\" class=\"data row5 col17\" >0</td>\n",
       "    </tr>\n",
       "    <tr>\n",
       "      <th id=\"T_d2ba4_level0_row6\" class=\"row_heading level0 row6\" >6</th>\n",
       "      <td id=\"T_d2ba4_row6_col0\" class=\"data row6 col0\" >0</td>\n",
       "      <td id=\"T_d2ba4_row6_col1\" class=\"data row6 col1\" >0</td>\n",
       "      <td id=\"T_d2ba4_row6_col2\" class=\"data row6 col2\" >0</td>\n",
       "      <td id=\"T_d2ba4_row6_col3\" class=\"data row6 col3\" >0</td>\n",
       "      <td id=\"T_d2ba4_row6_col4\" class=\"data row6 col4\" >0</td>\n",
       "      <td id=\"T_d2ba4_row6_col5\" class=\"data row6 col5\" >0</td>\n",
       "      <td id=\"T_d2ba4_row6_col6\" class=\"data row6 col6\" >0</td>\n",
       "      <td id=\"T_d2ba4_row6_col7\" class=\"data row6 col7\" >0</td>\n",
       "      <td id=\"T_d2ba4_row6_col8\" class=\"data row6 col8\" >0</td>\n",
       "      <td id=\"T_d2ba4_row6_col9\" class=\"data row6 col9\" >0</td>\n",
       "      <td id=\"T_d2ba4_row6_col10\" class=\"data row6 col10\" >249</td>\n",
       "      <td id=\"T_d2ba4_row6_col11\" class=\"data row6 col11\" >253</td>\n",
       "      <td id=\"T_d2ba4_row6_col12\" class=\"data row6 col12\" >245</td>\n",
       "      <td id=\"T_d2ba4_row6_col13\" class=\"data row6 col13\" >126</td>\n",
       "      <td id=\"T_d2ba4_row6_col14\" class=\"data row6 col14\" >0</td>\n",
       "      <td id=\"T_d2ba4_row6_col15\" class=\"data row6 col15\" >0</td>\n",
       "      <td id=\"T_d2ba4_row6_col16\" class=\"data row6 col16\" >0</td>\n",
       "      <td id=\"T_d2ba4_row6_col17\" class=\"data row6 col17\" >0</td>\n",
       "    </tr>\n",
       "    <tr>\n",
       "      <th id=\"T_d2ba4_level0_row7\" class=\"row_heading level0 row7\" >7</th>\n",
       "      <td id=\"T_d2ba4_row7_col0\" class=\"data row7 col0\" >0</td>\n",
       "      <td id=\"T_d2ba4_row7_col1\" class=\"data row7 col1\" >0</td>\n",
       "      <td id=\"T_d2ba4_row7_col2\" class=\"data row7 col2\" >0</td>\n",
       "      <td id=\"T_d2ba4_row7_col3\" class=\"data row7 col3\" >0</td>\n",
       "      <td id=\"T_d2ba4_row7_col4\" class=\"data row7 col4\" >0</td>\n",
       "      <td id=\"T_d2ba4_row7_col5\" class=\"data row7 col5\" >0</td>\n",
       "      <td id=\"T_d2ba4_row7_col6\" class=\"data row7 col6\" >0</td>\n",
       "      <td id=\"T_d2ba4_row7_col7\" class=\"data row7 col7\" >14</td>\n",
       "      <td id=\"T_d2ba4_row7_col8\" class=\"data row7 col8\" >101</td>\n",
       "      <td id=\"T_d2ba4_row7_col9\" class=\"data row7 col9\" >223</td>\n",
       "      <td id=\"T_d2ba4_row7_col10\" class=\"data row7 col10\" >253</td>\n",
       "      <td id=\"T_d2ba4_row7_col11\" class=\"data row7 col11\" >248</td>\n",
       "      <td id=\"T_d2ba4_row7_col12\" class=\"data row7 col12\" >124</td>\n",
       "      <td id=\"T_d2ba4_row7_col13\" class=\"data row7 col13\" >0</td>\n",
       "      <td id=\"T_d2ba4_row7_col14\" class=\"data row7 col14\" >0</td>\n",
       "      <td id=\"T_d2ba4_row7_col15\" class=\"data row7 col15\" >0</td>\n",
       "      <td id=\"T_d2ba4_row7_col16\" class=\"data row7 col16\" >0</td>\n",
       "      <td id=\"T_d2ba4_row7_col17\" class=\"data row7 col17\" >0</td>\n",
       "    </tr>\n",
       "    <tr>\n",
       "      <th id=\"T_d2ba4_level0_row8\" class=\"row_heading level0 row8\" >8</th>\n",
       "      <td id=\"T_d2ba4_row8_col0\" class=\"data row8 col0\" >0</td>\n",
       "      <td id=\"T_d2ba4_row8_col1\" class=\"data row8 col1\" >0</td>\n",
       "      <td id=\"T_d2ba4_row8_col2\" class=\"data row8 col2\" >0</td>\n",
       "      <td id=\"T_d2ba4_row8_col3\" class=\"data row8 col3\" >0</td>\n",
       "      <td id=\"T_d2ba4_row8_col4\" class=\"data row8 col4\" >0</td>\n",
       "      <td id=\"T_d2ba4_row8_col5\" class=\"data row8 col5\" >11</td>\n",
       "      <td id=\"T_d2ba4_row8_col6\" class=\"data row8 col6\" >166</td>\n",
       "      <td id=\"T_d2ba4_row8_col7\" class=\"data row8 col7\" >239</td>\n",
       "      <td id=\"T_d2ba4_row8_col8\" class=\"data row8 col8\" >253</td>\n",
       "      <td id=\"T_d2ba4_row8_col9\" class=\"data row8 col9\" >253</td>\n",
       "      <td id=\"T_d2ba4_row8_col10\" class=\"data row8 col10\" >253</td>\n",
       "      <td id=\"T_d2ba4_row8_col11\" class=\"data row8 col11\" >187</td>\n",
       "      <td id=\"T_d2ba4_row8_col12\" class=\"data row8 col12\" >30</td>\n",
       "      <td id=\"T_d2ba4_row8_col13\" class=\"data row8 col13\" >0</td>\n",
       "      <td id=\"T_d2ba4_row8_col14\" class=\"data row8 col14\" >0</td>\n",
       "      <td id=\"T_d2ba4_row8_col15\" class=\"data row8 col15\" >0</td>\n",
       "      <td id=\"T_d2ba4_row8_col16\" class=\"data row8 col16\" >0</td>\n",
       "      <td id=\"T_d2ba4_row8_col17\" class=\"data row8 col17\" >0</td>\n",
       "    </tr>\n",
       "    <tr>\n",
       "      <th id=\"T_d2ba4_level0_row9\" class=\"row_heading level0 row9\" >9</th>\n",
       "      <td id=\"T_d2ba4_row9_col0\" class=\"data row9 col0\" >0</td>\n",
       "      <td id=\"T_d2ba4_row9_col1\" class=\"data row9 col1\" >0</td>\n",
       "      <td id=\"T_d2ba4_row9_col2\" class=\"data row9 col2\" >0</td>\n",
       "      <td id=\"T_d2ba4_row9_col3\" class=\"data row9 col3\" >0</td>\n",
       "      <td id=\"T_d2ba4_row9_col4\" class=\"data row9 col4\" >0</td>\n",
       "      <td id=\"T_d2ba4_row9_col5\" class=\"data row9 col5\" >16</td>\n",
       "      <td id=\"T_d2ba4_row9_col6\" class=\"data row9 col6\" >248</td>\n",
       "      <td id=\"T_d2ba4_row9_col7\" class=\"data row9 col7\" >250</td>\n",
       "      <td id=\"T_d2ba4_row9_col8\" class=\"data row9 col8\" >253</td>\n",
       "      <td id=\"T_d2ba4_row9_col9\" class=\"data row9 col9\" >253</td>\n",
       "      <td id=\"T_d2ba4_row9_col10\" class=\"data row9 col10\" >253</td>\n",
       "      <td id=\"T_d2ba4_row9_col11\" class=\"data row9 col11\" >253</td>\n",
       "      <td id=\"T_d2ba4_row9_col12\" class=\"data row9 col12\" >232</td>\n",
       "      <td id=\"T_d2ba4_row9_col13\" class=\"data row9 col13\" >213</td>\n",
       "      <td id=\"T_d2ba4_row9_col14\" class=\"data row9 col14\" >111</td>\n",
       "      <td id=\"T_d2ba4_row9_col15\" class=\"data row9 col15\" >2</td>\n",
       "      <td id=\"T_d2ba4_row9_col16\" class=\"data row9 col16\" >0</td>\n",
       "      <td id=\"T_d2ba4_row9_col17\" class=\"data row9 col17\" >0</td>\n",
       "    </tr>\n",
       "    <tr>\n",
       "      <th id=\"T_d2ba4_level0_row10\" class=\"row_heading level0 row10\" >10</th>\n",
       "      <td id=\"T_d2ba4_row10_col0\" class=\"data row10 col0\" >0</td>\n",
       "      <td id=\"T_d2ba4_row10_col1\" class=\"data row10 col1\" >0</td>\n",
       "      <td id=\"T_d2ba4_row10_col2\" class=\"data row10 col2\" >0</td>\n",
       "      <td id=\"T_d2ba4_row10_col3\" class=\"data row10 col3\" >0</td>\n",
       "      <td id=\"T_d2ba4_row10_col4\" class=\"data row10 col4\" >0</td>\n",
       "      <td id=\"T_d2ba4_row10_col5\" class=\"data row10 col5\" >0</td>\n",
       "      <td id=\"T_d2ba4_row10_col6\" class=\"data row10 col6\" >0</td>\n",
       "      <td id=\"T_d2ba4_row10_col7\" class=\"data row10 col7\" >43</td>\n",
       "      <td id=\"T_d2ba4_row10_col8\" class=\"data row10 col8\" >98</td>\n",
       "      <td id=\"T_d2ba4_row10_col9\" class=\"data row10 col9\" >98</td>\n",
       "      <td id=\"T_d2ba4_row10_col10\" class=\"data row10 col10\" >208</td>\n",
       "      <td id=\"T_d2ba4_row10_col11\" class=\"data row10 col11\" >253</td>\n",
       "      <td id=\"T_d2ba4_row10_col12\" class=\"data row10 col12\" >253</td>\n",
       "      <td id=\"T_d2ba4_row10_col13\" class=\"data row10 col13\" >253</td>\n",
       "      <td id=\"T_d2ba4_row10_col14\" class=\"data row10 col14\" >253</td>\n",
       "      <td id=\"T_d2ba4_row10_col15\" class=\"data row10 col15\" >187</td>\n",
       "      <td id=\"T_d2ba4_row10_col16\" class=\"data row10 col16\" >22</td>\n",
       "      <td id=\"T_d2ba4_row10_col17\" class=\"data row10 col17\" >0</td>\n",
       "    </tr>\n",
       "  </tbody>\n",
       "</table>\n"
      ],
      "text/plain": [
       "<pandas.io.formats.style.Styler at 0x2a5257510>"
      ]
     },
     "execution_count": 72,
     "metadata": {},
     "output_type": "execute_result"
    }
   ],
   "source": [
    "#printing the number as an pandas dataframe\n",
    "\n",
    "im3_t = tensor(im3)\n",
    "df = pd.DataFrame(im3_t[4:15,4:22])\n",
    "df.style.set_properties(**{'font-size':'6pt'}).background_gradient('Greys')"
   ]
  },
  {
   "cell_type": "markdown",
   "id": "f858931c-69a5-4758-b151-dcbc60d10ce7",
   "metadata": {
    "jp-MarkdownHeadingCollapsed": true
   },
   "source": [
    "### Baseline Model"
   ]
  },
  {
   "cell_type": "code",
   "execution_count": 73,
   "id": "d90c1d5f-0d5d-441b-8e01-cf68eb91f8dd",
   "metadata": {},
   "outputs": [
    {
     "data": {
      "text/plain": [
       "(6131, 6265)"
      ]
     },
     "execution_count": 73,
     "metadata": {},
     "output_type": "execute_result"
    }
   ],
   "source": [
    "#Building a baseline model\n",
    "\n",
    "seven_tensors = [tensor(Image.open(o)) for o in sevens]\n",
    "three_tensors = [tensor(Image.open(o)) for o in threes]\n",
    "len(three_tensors), len(seven_tensors)"
   ]
  },
  {
   "cell_type": "code",
   "execution_count": 74,
   "id": "41ec412c-9adc-47ec-ad40-d14d7c519fa3",
   "metadata": {},
   "outputs": [
    {
     "data": {
      "text/plain": [
       "<Axes: >"
      ]
     },
     "execution_count": 74,
     "metadata": {},
     "output_type": "execute_result"
    },
    {
     "data": {
      "image/png": "[encoded data removed]",
      "text/plain": [
       "<Figure size 100x100 with 1 Axes>"
      ]
     },
     "metadata": {},
     "output_type": "display_data"
    }
   ],
   "source": [
    "show_image(three_tensors[1])"
   ]
  },
  {
   "cell_type": "code",
   "execution_count": 75,
   "id": "b92cbe13-221c-4d19-a5b3-144791222d92",
   "metadata": {},
   "outputs": [
    {
     "data": {
      "text/plain": [
       "torch.Size([6131, 28, 28])"
      ]
     },
     "execution_count": 75,
     "metadata": {},
     "output_type": "execute_result"
    }
   ],
   "source": [
    "#Stacking the tensors, converting them to float for certain operations \n",
    "#pixel values are expected to be between 0 and 1 (hence division by 255)\n",
    "\n",
    "stacked_threes = torch.stack(three_tensors).float()/255\n",
    "stacked_sevens = torch.stack(seven_tensors).float()/255\n",
    "\n",
    "stacked_threes.shape"
   ]
  },
  {
   "cell_type": "code",
   "execution_count": 76,
   "id": "e6eb8f21-59b3-451e-baee-ac811fa73da9",
   "metadata": {},
   "outputs": [
    {
     "data": {
      "image/png": "[encoded data removed]",
      "text/plain": [
       "<Figure size 100x100 with 1 Axes>"
      ]
     },
     "metadata": {},
     "output_type": "display_data"
    }
   ],
   "source": [
    "#calculating ideal 3 by taking mean of all images along dimension 0 (this acts as an index)\n",
    "\n",
    "mean3 = stacked_threes.mean(0)\n",
    "show_image(mean3);"
   ]
  },
  {
   "cell_type": "code",
   "execution_count": 77,
   "id": "4e162856-260d-4076-b6ff-9ca0756b75b9",
   "metadata": {},
   "outputs": [
    {
     "data": {
      "image/png": "[encoded data removed]",
      "text/plain": [
       "<Figure size 100x100 with 1 Axes>"
      ]
     },
     "metadata": {},
     "output_type": "display_data"
    }
   ],
   "source": [
    "mean7 = stacked_sevens.mean(0)\n",
    "show_image(mean7);"
   ]
  },
  {
   "cell_type": "code",
   "execution_count": 78,
   "id": "6d169359-359a-47e2-8239-f2465d1546ab",
   "metadata": {},
   "outputs": [
    {
     "data": {
      "image/png": "[encoded data removed]",
      "text/plain": [
       "<Figure size 100x100 with 1 Axes>"
      ]
     },
     "metadata": {},
     "output_type": "display_data"
    }
   ],
   "source": [
    "#Calculating the distnace from the ideal and a random sample\n",
    "\n",
    "a_3 = stacked_threes[1]\n",
    "show_image(a_3);"
   ]
  },
  {
   "cell_type": "code",
   "execution_count": 79,
   "id": "f10a683d-8fb4-44a9-b4b8-22547bbd75d4",
   "metadata": {},
   "outputs": [
    {
     "name": "stdout",
     "output_type": "stream",
     "text": [
      "L1 distance of the sample image: \n",
      "3 -  tensor(0.1114) \n",
      "7 -  tensor(0.1586)\n",
      "L2 distance of the sample image: \n",
      "3 -  tensor(0.2021) \n",
      "7 -  tensor(0.3021)\n"
     ]
    }
   ],
   "source": [
    "#L1 distance or Mean Absolute Difference\n",
    "\n",
    "dist_3_abs = (a_3 - mean3).abs().mean()\n",
    "dist_7_abs = (a_3 - mean7).abs().mean()\n",
    "print('L1 distance of the sample image: \\n3 - ',dist_3_abs,'\\n7 - ',dist_7_abs)\n",
    "#L2 distance or Mean Squared Error\n",
    "\n",
    "dist_3_sqrt = ((a_3 - mean3)**2).mean().sqrt()\n",
    "dist_7_sqrt = ((a_3 - mean7)**2).mean().sqrt()\n",
    "print('L2 distance of the sample image: \\n3 - ',dist_3_sqrt,'\\n7 - ',dist_7_sqrt)"
   ]
  },
  {
   "cell_type": "markdown",
   "id": "313229dd-11eb-4875-b918-cb31c2c96704",
   "metadata": {},
   "source": [
    "In the both L1 and L2 distances we can see that our sample image is closer to 3 than 7."
   ]
  },
  {
   "cell_type": "code",
   "execution_count": 80,
   "id": "498b8b99-7984-4693-869e-31cbfb421812",
   "metadata": {},
   "outputs": [
    {
     "data": {
      "text/plain": [
       "(tensor(0.1586), tensor(0.3021))"
      ]
     },
     "execution_count": 80,
     "metadata": {},
     "output_type": "execute_result"
    }
   ],
   "source": [
    "#Using PyTorch loss functions \n",
    "\n",
    "F.l1_loss(a_3.float(),mean7), F.mse_loss(a_3, mean7).sqrt()"
   ]
  },
  {
   "cell_type": "code",
   "execution_count": 81,
   "id": "fc3ad0ca-d34c-4435-9c21-1eea4f62e9ab",
   "metadata": {},
   "outputs": [
    {
     "data": {
      "text/plain": [
       "(torch.Size([1010, 28, 28]), torch.Size([1028, 28, 28]))"
      ]
     },
     "execution_count": 81,
     "metadata": {},
     "output_type": "execute_result"
    }
   ],
   "source": [
    "#Create a validation set\n",
    "\n",
    "valid_3_tens = torch.stack([tensor(Image.open(o)) for o in (path/'valid'/'3').ls()])\n",
    "valid_3_tens = valid_3_tens.float()/255\n",
    "\n",
    "valid_7_tens = torch.stack([tensor(Image.open(o)) for o in (path/'valid'/'7').ls()])\n",
    "valid_7_tens = valid_7_tens.float()/255\n",
    "\n",
    "valid_3_tens.shape, valid_7_tens.shape"
   ]
  },
  {
   "cell_type": "code",
   "execution_count": 82,
   "id": "42344027-4cb7-4aab-a2bc-0b9575ab949a",
   "metadata": {},
   "outputs": [],
   "source": [
    "#Function which calculates the distance \n",
    "\n",
    "def mnist_distance(a,b):\n",
    "    return (a-b).abs().mean((-1,-2))"
   ]
  },
  {
   "cell_type": "code",
   "execution_count": 83,
   "id": "ed3ff2b4-6162-4ed3-abbc-4ec5f444b22f",
   "metadata": {},
   "outputs": [
    {
     "data": {
      "text/plain": [
       "(tensor([0.1634, 0.1145, 0.1363,  ..., 0.1105, 0.1111, 0.1640]),\n",
       " torch.Size([1010]))"
      ]
     },
     "execution_count": 83,
     "metadata": {},
     "output_type": "execute_result"
    }
   ],
   "source": [
    "valid_3_dist = mnist_distance(valid_3_tens, mean3)\n",
    "\n",
    "valid_3_dist, valid_3_dist.shape"
   ]
  },
  {
   "cell_type": "code",
   "execution_count": 84,
   "id": "ec6b48c6-8d8b-47e6-92c0-fc572c5d7439",
   "metadata": {},
   "outputs": [],
   "source": [
    "# Check to see if the image is 3\n",
    "\n",
    "def is_3(x):\n",
    "    return mnist_distance(x, mean3) < mnist_distance(x, mean7)"
   ]
  },
  {
   "cell_type": "code",
   "execution_count": 85,
   "id": "da0c6119-219a-4289-bc35-32c1d8a59a97",
   "metadata": {},
   "outputs": [
    {
     "data": {
      "text/plain": [
       "(tensor(True), tensor(1.))"
      ]
     },
     "execution_count": 85,
     "metadata": {},
     "output_type": "execute_result"
    }
   ],
   "source": [
    "is_3(a_3), is_3(a_3).float()"
   ]
  },
  {
   "cell_type": "code",
   "execution_count": 86,
   "id": "8ac30af8-dd65-45ef-ae96-b8493530e386",
   "metadata": {},
   "outputs": [
    {
     "data": {
      "text/plain": [
       "tensor([True, True, True,  ..., True, True, True])"
      ]
     },
     "execution_count": 86,
     "metadata": {},
     "output_type": "execute_result"
    }
   ],
   "source": [
    "is_3(valid_3_tens)"
   ]
  },
  {
   "cell_type": "code",
   "execution_count": 87,
   "id": "70e29fee-1618-47a2-accc-7048f507bdcf",
   "metadata": {},
   "outputs": [
    {
     "data": {
      "text/plain": [
       "(tensor(0.9168), tensor(0.9854), tensor(0.9511))"
      ]
     },
     "execution_count": 87,
     "metadata": {},
     "output_type": "execute_result"
    }
   ],
   "source": [
    "#Calculating the accuracy\n",
    "\n",
    "accuracy_3s = is_3(valid_3_tens).float().mean()\n",
    "accuracy_7s = (1 - is_3(valid_7_tens).float()).mean()\n",
    "\n",
    "accuracy_3s, accuracy_7s, (accuracy_3s + accuracy_7s)/2"
   ]
  },
  {
   "cell_type": "markdown",
   "id": "68d7defa-b827-4bc6-8d85-5530e8c129f0",
   "metadata": {
    "jp-MarkdownHeadingCollapsed": true
   },
   "source": [
    "### Calculating gradients"
   ]
  },
  {
   "cell_type": "code",
   "execution_count": 88,
   "id": "37cc527e-c8e8-4f5d-aac4-ce7e6e159cc3",
   "metadata": {},
   "outputs": [],
   "source": [
    "#Calculating Gradients\n",
    "\n",
    "#define function\n",
    "def f(x): return x**2\n",
    "\n",
    "#Initialize tensor\n",
    "xt = tensor(3.).requires_grad_()"
   ]
  },
  {
   "cell_type": "markdown",
   "id": "81133970-d252-423e-904f-5e806ca563d2",
   "metadata": {},
   "source": [
    "```requires_grad_()``` method lets PyTorch know that we want to calculate gradients w.r.t to that variable at that value. "
   ]
  },
  {
   "cell_type": "code",
   "execution_count": 89,
   "id": "885398e3-3d84-4e76-b661-72c45d208105",
   "metadata": {},
   "outputs": [
    {
     "data": {
      "text/plain": [
       "tensor(9., grad_fn=<PowBackward0>)"
      ]
     },
     "execution_count": 89,
     "metadata": {},
     "output_type": "execute_result"
    }
   ],
   "source": [
    "yt = f(xt)\n",
    "yt"
   ]
  },
  {
   "cell_type": "markdown",
   "id": "d4ecfd6c-c1aa-4875-8fea-af4bb5691b20",
   "metadata": {},
   "source": [
    "3x3 is 9"
   ]
  },
  {
   "cell_type": "code",
   "execution_count": 90,
   "id": "4a4f4e26-f3dd-43b8-a7cf-c91caa67b867",
   "metadata": {},
   "outputs": [
    {
     "data": {
      "text/plain": [
       "tensor(6.)"
      ]
     },
     "execution_count": 90,
     "metadata": {},
     "output_type": "execute_result"
    }
   ],
   "source": [
    "#Backpropagation, basically \"calculate_grad\"\n",
    "yt.backward()\n",
    "\n",
    "#View the gradients\n",
    "xt.grad"
   ]
  },
  {
   "cell_type": "markdown",
   "id": "19f1ba58-aff7-4e61-9f5b-28f29e8d3e03",
   "metadata": {},
   "source": [
    "the derivate of x<sup>2</sup> is 2x<br>\n",
    "2 x 3 = 6"
   ]
  },
  {
   "cell_type": "code",
   "execution_count": 91,
   "id": "8bd87dab-d3b5-4e94-b005-c0a4969db580",
   "metadata": {},
   "outputs": [
    {
     "name": "stdout",
     "output_type": "stream",
     "text": [
      "tensor([ 3.,  4., 10.], requires_grad=True)\n",
      "tensor(125., grad_fn=<SumBackward0>)\n",
      "tensor([ 6.,  8., 20.])\n"
     ]
    }
   ],
   "source": [
    "#repeating above steps but for a vector argument\n",
    "\n",
    "xt = tensor([3.,4.,10.]).requires_grad_()\n",
    "print(xt)\n",
    "\n",
    "#function\n",
    "def f(x): return (x**2).sum()\n",
    "\n",
    "yt = f(xt)\n",
    "print(yt)\n",
    "\n",
    "#backprop\n",
    "yt.backward()\n",
    "print(xt.grad)"
   ]
  },
  {
   "cell_type": "markdown",
   "id": "8c5dbd4f-b0ca-41d1-aaec-71f6cce8895b",
   "metadata": {
    "jp-MarkdownHeadingCollapsed": true
   },
   "source": [
    "### Stochastic Gradient Descent example"
   ]
  },
  {
   "cell_type": "code",
   "execution_count": 92,
   "id": "265a33f8-bdad-4049-a8fb-8ae782c10fb9",
   "metadata": {},
   "outputs": [
    {
     "data": {
      "text/plain": [
       "tensor([ 0.,  1.,  2.,  3.,  4.,  5.,  6.,  7.,  8.,  9., 10., 11., 12., 13.,\n",
       "        14., 15., 16., 17., 18., 19.])"
      ]
     },
     "execution_count": 92,
     "metadata": {},
     "output_type": "execute_result"
    }
   ],
   "source": [
    "#End to end SGD example\n",
    "\n",
    "time = torch.arange(0,20).float();\n",
    "time"
   ]
  },
  {
   "cell_type": "code",
   "execution_count": 93,
   "id": "57574a8c-4fd2-4be2-aa23-e387327be9ee",
   "metadata": {},
   "outputs": [
    {
     "data": {
      "image/png": "[encoded data removed]",
      "text/plain": [
       "<Figure size 640x480 with 1 Axes>"
      ]
     },
     "metadata": {},
     "output_type": "display_data"
    }
   ],
   "source": [
    "speed = torch.randn(20)*3 + 0.75*(time - 9.5)**2 + 1\n",
    "plt.scatter(time,speed);"
   ]
  },
  {
   "cell_type": "code",
   "execution_count": 94,
   "id": "2940f635-5101-4c03-a230-d34be4e6c1a5",
   "metadata": {},
   "outputs": [
    {
     "data": {
      "image/png": "[encoded data removed]",
      "text/plain": [
       "<Figure size 640x480 with 1 Axes>"
      ]
     },
     "metadata": {},
     "output_type": "display_data"
    }
   ],
   "source": [
    "#function assumption \n",
    "def f(t, params):\n",
    "    a,b,c = params\n",
    "    return a*(t**2) + b*t + c\n",
    "\n",
    "#loss function\n",
    "def mse(preds, targets):\n",
    "    return ((preds - targets)**2).mean()\n",
    "\n",
    "#STEP 1 - Initialize the parameters\n",
    "params = torch.randn(3).requires_grad_()\n",
    "\n",
    "#STEP 2 - Calculate the predictions\n",
    "preds = f(time, params)\n",
    "\n",
    "def show_preds(preds, ax=None):\n",
    "    if ax is None: ax=plt.subplots()[1]\n",
    "    ax.scatter(time, speed)\n",
    "    ax.scatter(time, to_np(preds), color='red')\n",
    "    ax.set_ylim(-300, 100)\n",
    "\n",
    "show_preds(preds)"
   ]
  },
  {
   "cell_type": "code",
   "execution_count": 95,
   "id": "353ba3e1-50c1-435c-a99c-58574863da1b",
   "metadata": {},
   "outputs": [
    {
     "data": {
      "text/plain": [
       "tensor(14014.5752, grad_fn=<MeanBackward0>)"
      ]
     },
     "execution_count": 95,
     "metadata": {},
     "output_type": "execute_result"
    }
   ],
   "source": [
    "#STEP 3 - Calculate the loss\n",
    "loss = mse(preds, speed)\n",
    "loss"
   ]
  },
  {
   "cell_type": "code",
   "execution_count": 96,
   "id": "2cc03fa0-eb03-4479-95f1-dee91c2038b2",
   "metadata": {},
   "outputs": [
    {
     "name": "stdout",
     "output_type": "stream",
     "text": [
      "tensor([-38749.2188,  -2489.3103,   -189.6599])\n",
      "tensor([-0.5352, -0.3071,  0.2795], requires_grad=True)\n"
     ]
    }
   ],
   "source": [
    "#STEP 4 - Calculate the gradients\n",
    "loss.backward()\n",
    "print(params.grad)\n",
    "\n",
    "#Multiply by 1e-5 (learning rate)\n",
    "params.grad * 1e-5\n",
    "print(params)\n",
    "\n"
   ]
  },
  {
   "cell_type": "code",
   "execution_count": 97,
   "id": "05eb89ec-f4b4-4fdc-a802-9e7c49b58204",
   "metadata": {},
   "outputs": [],
   "source": [
    "#STEP 5 - Step the weights\n",
    "lr = 1e-5\n",
    "params.data -= lr * params.grad.data\n",
    "params.grad = None"
   ]
  },
  {
   "cell_type": "code",
   "execution_count": 98,
   "id": "2fb710c9-160f-40c8-b8c3-6cd054566fd1",
   "metadata": {},
   "outputs": [
    {
     "name": "stdout",
     "output_type": "stream",
     "text": [
      "tensor(3196.5288, grad_fn=<MeanBackward0>)\n"
     ]
    },
    {
     "data": {
      "image/png": "[encoded data removed]",
      "text/plain": [
       "<Figure size 640x480 with 1 Axes>"
      ]
     },
     "metadata": {},
     "output_type": "display_data"
    }
   ],
   "source": [
    "#After 1 step\n",
    "preds = f(time, params)\n",
    "print(mse(preds, speed))\n",
    "\n",
    "show_preds(preds)"
   ]
  },
  {
   "cell_type": "code",
   "execution_count": 99,
   "id": "288cad6d-95a0-4dac-8dfb-fde202b0ae5e",
   "metadata": {},
   "outputs": [],
   "source": [
    "#Create a function to apply one step\n",
    "\n",
    "def apply_step(params, show_loss=True):\n",
    "    preds = f(time, params)\n",
    "    loss = mse(speed, preds)\n",
    "    loss.backward()\n",
    "    params.data -= lr * params.grad.data\n",
    "    params.grad = None\n",
    "    if show_loss: print(loss.item())\n",
    "    return preds"
   ]
  },
  {
   "cell_type": "code",
   "execution_count": 100,
   "id": "bc37f281-96d0-44b1-b953-565447560392",
   "metadata": {},
   "outputs": [
    {
     "name": "stdout",
     "output_type": "stream",
     "text": [
      "3196.52880859375\n",
      "1149.4210205078125\n",
      "762.0425415039062\n",
      "688.7355346679688\n",
      "674.8605346679688\n",
      "672.2318115234375\n",
      "671.7313232421875\n",
      "671.6334838867188\n",
      "671.6119384765625\n",
      "671.6046752929688\n"
     ]
    }
   ],
   "source": [
    "#STEP 6 - Repeat the process \n",
    "for i in range(10): apply_step(params)"
   ]
  },
  {
   "cell_type": "code",
   "execution_count": 101,
   "id": "f3b59d7e-ae3c-4093-bef8-197fc9f0544a",
   "metadata": {},
   "outputs": [],
   "source": [
    "#STEP 7 - STOP"
   ]
  },
  {
   "cell_type": "markdown",
   "id": "edc1abe9-2a6d-412f-9ad5-b543c43a42dd",
   "metadata": {},
   "source": [
    "We have arbitrarily decided to stop after 10 epochs but in reality we would watch the training and validation losses to decide when we stop."
   ]
  },
  {
   "cell_type": "markdown",
   "id": "31f9c511-9882-466f-9299-73ffda900a61",
   "metadata": {
    "jp-MarkdownHeadingCollapsed": true
   },
   "source": [
    "### MNIST Example"
   ]
  },
  {
   "cell_type": "code",
   "execution_count": 102,
   "id": "0e092850-68a6-4271-bdd5-65323f7407a7",
   "metadata": {},
   "outputs": [
    {
     "name": "stdout",
     "output_type": "stream",
     "text": [
      "torch.Size([6131, 28, 28])\n",
      "torch.Size([12396, 784])\n"
     ]
    }
   ],
   "source": [
    "#shape before\n",
    "print(stacked_threes.shape)\n",
    "\n",
    "#Convert from a rank 3 matrix to rank 2 matrix\n",
    "train_x = torch.cat([stacked_threes,stacked_sevens]).view(-1,28*28)\n",
    "\n",
    "#shape after\n",
    "print(train_x.shape)"
   ]
  },
  {
   "cell_type": "code",
   "execution_count": 103,
   "id": "4705fee6-337d-4b55-be19-a4a2e7586d23",
   "metadata": {},
   "outputs": [
    {
     "data": {
      "text/plain": [
       "torch.Size([12396, 1])"
      ]
     },
     "execution_count": 103,
     "metadata": {},
     "output_type": "execute_result"
    }
   ],
   "source": [
    "train_y = tensor([1]*len(threes) + [0]*len(sevens)).unsqueeze(1)\n",
    "train_y.shape"
   ]
  },
  {
   "cell_type": "code",
   "execution_count": 104,
   "id": "8af12d32-158a-4e0a-aa80-e159f04d43bf",
   "metadata": {},
   "outputs": [
    {
     "data": {
      "text/plain": [
       "(torch.Size([784]), tensor([1]))"
      ]
     },
     "execution_count": 104,
     "metadata": {},
     "output_type": "execute_result"
    }
   ],
   "source": [
    "#PyTorch requires the data to be a tuple \n",
    "\n",
    "dset = list(zip(train_x, train_y))\n",
    "x,y = dset[0]\n",
    "x.shape, y"
   ]
  },
  {
   "cell_type": "code",
   "execution_count": 105,
   "id": "caebf411-0e89-499d-9888-6c250cdb717b",
   "metadata": {},
   "outputs": [],
   "source": [
    "#Repeat the same operations for the validation set\n",
    "\n",
    "valid_x = torch.cat([valid_3_tens,valid_7_tens]).view(-1,28*28)\n",
    "valid_y = tensor([1]*len(valid_3_tens) + [0]*len(valid_7_tens)).unsqueeze(1)\n",
    "valid_dset =list(zip(valid_x, valid_y))"
   ]
  },
  {
   "cell_type": "code",
   "execution_count": 106,
   "id": "0d1ed056-5046-4207-b852-81297e4127fa",
   "metadata": {},
   "outputs": [],
   "source": [
    "#Intialize random weights for every pixel\n",
    "\n",
    "def init_params(size,std=1.0):\n",
    "    return (torch.randn(size)*std).requires_grad_()"
   ]
  },
  {
   "cell_type": "code",
   "execution_count": 107,
   "id": "9e25f1a6-0c82-4d5e-947a-275162682748",
   "metadata": {},
   "outputs": [],
   "source": [
    "#weights\n",
    "weights = init_params((28*28,1))\n",
    "\n",
    "#bias\n",
    "bias = init_params(1)"
   ]
  },
  {
   "cell_type": "code",
   "execution_count": 108,
   "id": "77245a42-098e-4b59-9cde-c413f168dc31",
   "metadata": {},
   "outputs": [
    {
     "data": {
      "text/plain": [
       "tensor([-2.4122], grad_fn=<AddBackward0>)"
      ]
     },
     "execution_count": 108,
     "metadata": {},
     "output_type": "execute_result"
    }
   ],
   "source": [
    "(train_x[0]*weights.T).sum() + bias"
   ]
  },
  {
   "cell_type": "code",
   "execution_count": 109,
   "id": "c2a8c068-7fca-4ea8-b7d0-91a394600cfe",
   "metadata": {},
   "outputs": [
    {
     "data": {
      "text/plain": [
       "tensor([[ -2.4122],\n",
       "        [-12.2017],\n",
       "        [ -2.0384],\n",
       "        ...,\n",
       "        [  9.1755],\n",
       "        [-13.8787],\n",
       "        [  3.0102]], grad_fn=<AddBackward0>)"
      ]
     },
     "execution_count": 109,
     "metadata": {},
     "output_type": "execute_result"
    }
   ],
   "source": [
    "#Model\n",
    "\n",
    "def linear1(xb):\n",
    "    return xb@weights + bias\n",
    "\n",
    "preds = linear1(train_x)\n",
    "preds"
   ]
  },
  {
   "cell_type": "code",
   "execution_count": 110,
   "id": "fff8ef58-cc83-4890-9f1f-b8cee131e3e5",
   "metadata": {},
   "outputs": [
    {
     "data": {
      "text/plain": [
       "tensor([[False],\n",
       "        [False],\n",
       "        [False],\n",
       "        ...,\n",
       "        [False],\n",
       "        [ True],\n",
       "        [False]])"
      ]
     },
     "execution_count": 110,
     "metadata": {},
     "output_type": "execute_result"
    }
   ],
   "source": [
    "corrects = (preds>0.0).float() == train_y\n",
    "corrects"
   ]
  },
  {
   "cell_type": "code",
   "execution_count": 111,
   "id": "2f2e33f0-5a70-47bf-847b-ded7fb4e30dd",
   "metadata": {},
   "outputs": [
    {
     "data": {
      "text/plain": [
       "0.2954985499382019"
      ]
     },
     "execution_count": 111,
     "metadata": {},
     "output_type": "execute_result"
    }
   ],
   "source": [
    "corrects.float().mean().item()"
   ]
  },
  {
   "cell_type": "code",
   "execution_count": 112,
   "id": "6d016083-acec-4f37-aeed-2b0cc8de6bd2",
   "metadata": {},
   "outputs": [],
   "source": [
    "#MNIST Loss function \n",
    "\n",
    "def mnist_loss(predictions, targets):\n",
    "    return torch.where(targets==1, 1 - predictions, predictions).mean()"
   ]
  },
  {
   "cell_type": "code",
   "execution_count": 113,
   "id": "6f075463-52f8-4458-8570-b9fa12ab8d0a",
   "metadata": {},
   "outputs": [
    {
     "data": {
      "text/plain": [
       "tensor([0.1000, 0.4000, 0.8000])"
      ]
     },
     "execution_count": 113,
     "metadata": {},
     "output_type": "execute_result"
    }
   ],
   "source": [
    "#example \n",
    "\n",
    "trgts = tensor([1,0,1])\n",
    "prds = tensor([0.9,0.4,0.2])\n",
    "\n",
    "torch.where(trgts==1, 1-prds, prds)"
   ]
  },
  {
   "cell_type": "markdown",
   "id": "69e5617d-f876-4a6a-9134-e676907c52ac",
   "metadata": {},
   "source": [
    "Higher the accuracy of the prediction ,lower the loss."
   ]
  },
  {
   "cell_type": "code",
   "execution_count": 114,
   "id": "90116f46-d7fe-40cf-82dc-447224f14ba2",
   "metadata": {},
   "outputs": [
    {
     "data": {
      "text/plain": [
       "tensor(0.4333)"
      ]
     },
     "execution_count": 114,
     "metadata": {},
     "output_type": "execute_result"
    }
   ],
   "source": [
    "mnist_loss(prds, trgts)"
   ]
  },
  {
   "cell_type": "markdown",
   "id": "c7059a10-6c17-4181-9a83-ea6654f51915",
   "metadata": {},
   "source": [
    "Our loss assumes that all the values are between 0 and 1. We can use sigmoid function. "
   ]
  },
  {
   "cell_type": "code",
   "execution_count": 115,
   "id": "b1b61f08-470e-4cd5-8893-ccc23a20106a",
   "metadata": {},
   "outputs": [],
   "source": [
    "#new mnist function with sigmoid function\n",
    "\n",
    "def mnist_loss(predictions, targets):\n",
    "    predictions = predictions.sigmoid()\n",
    "    return torch.where(targets==1, 1-predictions, predictions).mean()"
   ]
  },
  {
   "cell_type": "markdown",
   "id": "6c10619f-0875-4b94-ab41-d0b8a4d43d0c",
   "metadata": {
    "jp-MarkdownHeadingCollapsed": true
   },
   "source": [
    "### Putting it all together"
   ]
  },
  {
   "cell_type": "code",
   "execution_count": 116,
   "id": "c971fe11-42bc-484f-8e81-715af53c0e74",
   "metadata": {},
   "outputs": [],
   "source": [
    "#Re-Initialize the parameters\n",
    "weights = init_params((28*28,1))\n",
    "bias = init_params(1)"
   ]
  },
  {
   "cell_type": "code",
   "execution_count": 117,
   "id": "b125e5f3-53c5-4621-add4-a7764ce6dd28",
   "metadata": {},
   "outputs": [
    {
     "data": {
      "text/plain": [
       "(torch.Size([256, 784]), torch.Size([256, 1]))"
      ]
     },
     "execution_count": 117,
     "metadata": {},
     "output_type": "execute_result"
    }
   ],
   "source": [
    "#Create a DataLoader\n",
    "\n",
    "dl = DataLoader(dset, batch_size=256)\n",
    "xb, yb = first(dl)\n",
    "xb.shape, yb.shape"
   ]
  },
  {
   "cell_type": "code",
   "execution_count": 118,
   "id": "ea3a27a9-8778-44d5-b0c0-bf3089ee90ce",
   "metadata": {},
   "outputs": [],
   "source": [
    "#same for the validation set\n",
    "\n",
    "valid_dl = DataLoader(valid_dset, batch_size=256)"
   ]
  },
  {
   "cell_type": "code",
   "execution_count": 119,
   "id": "66ac3f5b-11e0-4e6e-b879-e8b393a4e846",
   "metadata": {},
   "outputs": [
    {
     "data": {
      "text/plain": [
       "torch.Size([4, 784])"
      ]
     },
     "execution_count": 119,
     "metadata": {},
     "output_type": "execute_result"
    }
   ],
   "source": [
    "#Creating a Mini-Batch of size 4 for testing\n",
    "\n",
    "batch  = train_x[:4]\n",
    "batch.shape"
   ]
  },
  {
   "cell_type": "code",
   "execution_count": 120,
   "id": "80620aac-09fa-41da-a373-2c62302c9577",
   "metadata": {},
   "outputs": [
    {
     "data": {
      "text/plain": [
       "tensor([[-21.6865],\n",
       "        [-12.1615],\n",
       "        [ -2.8244],\n",
       "        [-12.7962]], grad_fn=<AddBackward0>)"
      ]
     },
     "execution_count": 120,
     "metadata": {},
     "output_type": "execute_result"
    }
   ],
   "source": [
    "preds = linear1(batch)\n",
    "preds"
   ]
  },
  {
   "cell_type": "code",
   "execution_count": 121,
   "id": "b4c91947-5381-4398-a099-1a9f59b67383",
   "metadata": {},
   "outputs": [
    {
     "data": {
      "text/plain": [
       "tensor(0.9860, grad_fn=<MeanBackward0>)"
      ]
     },
     "execution_count": 121,
     "metadata": {},
     "output_type": "execute_result"
    }
   ],
   "source": [
    "loss = mnist_loss(preds, train_y[:4])\n",
    "loss"
   ]
  },
  {
   "cell_type": "code",
   "execution_count": 122,
   "id": "aaa2a7aa-61ce-4760-9079-bffd357a1f88",
   "metadata": {},
   "outputs": [
    {
     "data": {
      "text/plain": [
       "(torch.Size([784, 1]), tensor(-0.0019), tensor([-0.0132]))"
      ]
     },
     "execution_count": 122,
     "metadata": {},
     "output_type": "execute_result"
    }
   ],
   "source": [
    "loss.backward()\n",
    "weights.grad.shape, weights.grad.mean(), bias.grad"
   ]
  },
  {
   "cell_type": "code",
   "execution_count": 123,
   "id": "d5112016-70c9-4759-9819-b5a6ae0d43c6",
   "metadata": {},
   "outputs": [],
   "source": [
    "#Putting it all in one function\n",
    "\n",
    "def calc_grad(xb, yb, model):\n",
    "    preds = model(xb)\n",
    "    loss = mnist_loss(preds, yb)\n",
    "    loss.backward()"
   ]
  },
  {
   "cell_type": "code",
   "execution_count": 124,
   "id": "18edb087-2b8e-40ae-821a-c24388945b3a",
   "metadata": {},
   "outputs": [
    {
     "data": {
      "text/plain": [
       "(tensor(-0.0038), tensor([-0.0264]))"
      ]
     },
     "execution_count": 124,
     "metadata": {},
     "output_type": "execute_result"
    }
   ],
   "source": [
    "#testing the function \n",
    "\n",
    "calc_grad(batch, train_y[:4], linear1)\n",
    "weights.grad.mean(), bias.grad"
   ]
  },
  {
   "cell_type": "code",
   "execution_count": 125,
   "id": "add345b0-1f3f-4a88-b04a-dfccfc68373c",
   "metadata": {},
   "outputs": [],
   "source": [
    "#Change the gradients to 0\n",
    "\n",
    "weights.grad.zero_()\n",
    "bias.grad.zero_();"
   ]
  },
  {
   "cell_type": "code",
   "execution_count": 126,
   "id": "7b50e731-0fc9-4da8-9626-3c6adbfad961",
   "metadata": {},
   "outputs": [],
   "source": [
    "#Update the weights and biases \n",
    "\n",
    "def train_epoch(model, lr, params):\n",
    "    for xb, yb in dl:\n",
    "        calc_grad(xb, yb, model)\n",
    "        for p in params:\n",
    "            p.data -= p.grad*lr\n",
    "            p.grad.zero_()"
   ]
  },
  {
   "cell_type": "code",
   "execution_count": 127,
   "id": "7c6ed0ce-2265-4d68-b24b-65d0b730dfb6",
   "metadata": {},
   "outputs": [
    {
     "data": {
      "text/plain": [
       "tensor([[False],\n",
       "        [False],\n",
       "        [False],\n",
       "        [False]])"
      ]
     },
     "execution_count": 127,
     "metadata": {},
     "output_type": "execute_result"
    }
   ],
   "source": [
    "#Calculate accuracy \n",
    "\n",
    "(preds>0.0).float() == train_y[:4]"
   ]
  },
  {
   "cell_type": "code",
   "execution_count": 128,
   "id": "7da2f3a3-4c9b-463f-92e6-05466f04c345",
   "metadata": {},
   "outputs": [],
   "source": [
    "#Calculate batch accuracy\n",
    "\n",
    "def batch_accuracy(xb, yb):\n",
    "    preds = xb.sigmoid()\n",
    "    correct = (preds > 0.5) == yb\n",
    "    return correct.float().mean()"
   ]
  },
  {
   "cell_type": "code",
   "execution_count": 129,
   "id": "2c204513-d039-404b-8c45-654cd74dec1b",
   "metadata": {},
   "outputs": [
    {
     "data": {
      "text/plain": [
       "tensor(0.)"
      ]
     },
     "execution_count": 129,
     "metadata": {},
     "output_type": "execute_result"
    }
   ],
   "source": [
    "batch_accuracy(linear1(batch), train_y[:4])"
   ]
  },
  {
   "cell_type": "code",
   "execution_count": 130,
   "id": "9f0b80e1-2a3d-4aba-8c31-9f7a3a0bd34e",
   "metadata": {},
   "outputs": [],
   "source": [
    "#validate the epoch\n",
    "\n",
    "def validate_epoch(model):\n",
    "    accs = [batch_accuracy(model(xb), yb) for xb, yb in valid_dl]\n",
    "    return round(torch.stack(accs).mean().item(), 4)"
   ]
  },
  {
   "cell_type": "code",
   "execution_count": 131,
   "id": "9fb7e9fe-8416-4d8b-bc01-cef48d904be3",
   "metadata": {},
   "outputs": [
    {
     "data": {
      "text/plain": [
       "0.4241"
      ]
     },
     "execution_count": 131,
     "metadata": {},
     "output_type": "execute_result"
    }
   ],
   "source": [
    "validate_epoch(linear1)"
   ]
  },
  {
   "cell_type": "code",
   "execution_count": 132,
   "id": "6a18d201-3b8a-416f-beb7-a9dff6c70a91",
   "metadata": {},
   "outputs": [
    {
     "data": {
      "text/plain": [
       "0.5809"
      ]
     },
     "execution_count": 132,
     "metadata": {},
     "output_type": "execute_result"
    }
   ],
   "source": [
    "#Fix the learning rate\n",
    "\n",
    "lr = 1.\n",
    "params = weights,bias\n",
    "train_epoch(linear1, lr, params)\n",
    "validate_epoch(linear1)"
   ]
  },
  {
   "cell_type": "code",
   "execution_count": 133,
   "id": "350cbc18-bf70-4a44-a207-d2d6d84f0c22",
   "metadata": {},
   "outputs": [
    {
     "name": "stdout",
     "output_type": "stream",
     "text": [
      "0.8085 0.8949 0.9247 0.9369 0.9462 0.9505 0.954 0.9564 0.9588 0.9608 0.9613 0.9642 0.9647 0.9662 0.9672 0.9677 0.9672 0.9662 0.9681 0.9681 "
     ]
    }
   ],
   "source": [
    "\n",
    "for i in range(20):\n",
    "    train_epoch(linear1, lr, params)\n",
    "    print(validate_epoch(linear1), end=' ')\n"
   ]
  },
  {
   "cell_type": "markdown",
   "id": "486b4ab8-310c-4f3c-84fe-cb8e5a6c1c32",
   "metadata": {
    "jp-MarkdownHeadingCollapsed": true
   },
   "source": [
    "### Creating an Optimizer"
   ]
  },
  {
   "cell_type": "code",
   "execution_count": 134,
   "id": "24cf5e68-9884-407d-a07d-dd4f4e3170a3",
   "metadata": {},
   "outputs": [],
   "source": [
    " #Using PyTorch's nn.Linear module\n",
    "\n",
    "linear_model = nn.Linear(28*28, 1)"
   ]
  },
  {
   "cell_type": "code",
   "execution_count": 135,
   "id": "9b59dcc5-18e6-4cb1-a338-9b6cbec21c7e",
   "metadata": {},
   "outputs": [
    {
     "data": {
      "text/plain": [
       "(torch.Size([1, 784]), torch.Size([1]))"
      ]
     },
     "execution_count": 135,
     "metadata": {},
     "output_type": "execute_result"
    }
   ],
   "source": [
    "w,b = linear_model.parameters()\n",
    "w.shape, b.shape"
   ]
  },
  {
   "cell_type": "code",
   "execution_count": 136,
   "id": "8582dce8-15a9-47e7-badd-5a07a1519959",
   "metadata": {},
   "outputs": [],
   "source": [
    "#Creating an Optimizer\n",
    "\n",
    "class BasicOptim:\n",
    "    def __init__(self,params,lr): self.params,self.lr = list(params),lr\n",
    "\n",
    "    def step(self, *args, **kwargs):\n",
    "        for p in self.params: p.data -= p.grad.data * self.lr\n",
    "\n",
    "    def zero_grad(self, *args, **kwargs):\n",
    "        for p in self.params: p.grad = None"
   ]
  },
  {
   "cell_type": "code",
   "execution_count": 137,
   "id": "e110990b-98ac-48fe-b21a-6a847ddafd70",
   "metadata": {},
   "outputs": [
    {
     "data": {
      "text/plain": [
       "0.6927"
      ]
     },
     "execution_count": 137,
     "metadata": {},
     "output_type": "execute_result"
    }
   ],
   "source": [
    "#create an instance of the optimizer\n",
    "\n",
    "opt = BasicOptim(linear_model.parameters(),lr)\n",
    "\n",
    "#Simplifying the training loop\n",
    "\n",
    "def train_epoch(model):\n",
    "    for xb,yb in dl:\n",
    "        calc_grad(xb,yb,model)\n",
    "        opt.step()\n",
    "        opt.zero_grad()\n",
    "\n",
    "validate_epoch(linear_model)"
   ]
  },
  {
   "cell_type": "code",
   "execution_count": 138,
   "id": "c10373e0-eb77-4dc0-b75e-8f74999069b0",
   "metadata": {},
   "outputs": [],
   "source": [
    "#training loop\n",
    "\n",
    "def train_model(model, epochs):\n",
    "    for i in range(epochs):\n",
    "        train_epoch(model)\n",
    "        print(validate_epoch(model), end = '')"
   ]
  },
  {
   "cell_type": "code",
   "execution_count": 139,
   "id": "c3104b88-aaeb-4037-bb2d-d0c0d75ca198",
   "metadata": {},
   "outputs": [
    {
     "name": "stdout",
     "output_type": "stream",
     "text": [
      "0.49320.78470.85540.91790.93550.94920.9560.96340.96580.96820.97020.97260.97460.97460.97560.9770.97750.9780.9780.9785"
     ]
    }
   ],
   "source": [
    "train_model(linear_model, 20)"
   ]
  },
  {
   "cell_type": "code",
   "execution_count": 140,
   "id": "4b4d91cc-8b52-4099-ae0b-485c82a81e84",
   "metadata": {},
   "outputs": [
    {
     "name": "stdout",
     "output_type": "stream",
     "text": [
      "0.49320.8740.83450.91310.93310.94820.95650.96340.96580.96780.96970.97210.97460.97460.97560.97650.97750.9780.9780.979"
     ]
    }
   ],
   "source": [
    "#Using SGD class offered by PyTorch\n",
    "\n",
    "linear_model = nn.Linear(28*28,1)\n",
    "opt = SGD(linear_model.parameters(),lr)\n",
    "train_model(linear_model, 20)"
   ]
  },
  {
   "cell_type": "code",
   "execution_count": 141,
   "id": "5f143969-b6bc-42a5-b475-7a269a867b3a",
   "metadata": {},
   "outputs": [],
   "source": [
    "#Using Learner.fit provided by Fast.ai\n",
    "\n",
    "dls = DataLoaders(dl, valid_dl)\n",
    "\n",
    "learn = Learner(dls, nn.Linear(28*28,1), opt_func=SGD,\n",
    "                loss_func=mnist_loss, metrics=batch_accuracy)"
   ]
  },
  {
   "cell_type": "code",
   "execution_count": 142,
   "id": "e3fcc4f3-c175-4734-ac52-a655943fc7b9",
   "metadata": {},
   "outputs": [
    {
     "data": {
      "text/html": [
       "\n",
       "<style>\n",
       "    /* Turns off some styling */\n",
       "    progress {\n",
       "        /* gets rid of default border in Firefox and Opera. */\n",
       "        border: none;\n",
       "        /* Needs to be in here for Safari polyfill so background images work as expected. */\n",
       "        background-size: auto;\n",
       "    }\n",
       "    progress:not([value]), progress:not([value])::-webkit-progress-bar {\n",
       "        background: repeating-linear-gradient(45deg, #7e7e7e, #7e7e7e 10px, #5c5c5c 10px, #5c5c5c 20px);\n",
       "    }\n",
       "    .progress-bar-interrupted, .progress-bar-interrupted::-webkit-progress-bar {\n",
       "        background: #F44336;\n",
       "    }\n",
       "</style>\n"
      ],
      "text/plain": [
       "<IPython.core.display.HTML object>"
      ]
     },
     "metadata": {},
     "output_type": "display_data"
    },
    {
     "data": {
      "text/html": [
       "<table border=\"1\" class=\"dataframe\">\n",
       "  <thead>\n",
       "    <tr style=\"text-align: left;\">\n",
       "      <th>epoch</th>\n",
       "      <th>train_loss</th>\n",
       "      <th>valid_loss</th>\n",
       "      <th>batch_accuracy</th>\n",
       "      <th>time</th>\n",
       "    </tr>\n",
       "  </thead>\n",
       "  <tbody>\n",
       "    <tr>\n",
       "      <td>0</td>\n",
       "      <td>0.636714</td>\n",
       "      <td>0.503591</td>\n",
       "      <td>0.495584</td>\n",
       "      <td>00:00</td>\n",
       "    </tr>\n",
       "    <tr>\n",
       "      <td>1</td>\n",
       "      <td>0.560782</td>\n",
       "      <td>0.135436</td>\n",
       "      <td>0.907262</td>\n",
       "      <td>00:00</td>\n",
       "    </tr>\n",
       "    <tr>\n",
       "      <td>2</td>\n",
       "      <td>0.203881</td>\n",
       "      <td>0.205398</td>\n",
       "      <td>0.809617</td>\n",
       "      <td>00:00</td>\n",
       "    </tr>\n",
       "    <tr>\n",
       "      <td>3</td>\n",
       "      <td>0.088568</td>\n",
       "      <td>0.113833</td>\n",
       "      <td>0.907262</td>\n",
       "      <td>00:00</td>\n",
       "    </tr>\n",
       "    <tr>\n",
       "      <td>4</td>\n",
       "      <td>0.046096</td>\n",
       "      <td>0.081284</td>\n",
       "      <td>0.931305</td>\n",
       "      <td>00:00</td>\n",
       "    </tr>\n",
       "    <tr>\n",
       "      <td>5</td>\n",
       "      <td>0.029577</td>\n",
       "      <td>0.064407</td>\n",
       "      <td>0.946025</td>\n",
       "      <td>00:00</td>\n",
       "    </tr>\n",
       "    <tr>\n",
       "      <td>6</td>\n",
       "      <td>0.022832</td>\n",
       "      <td>0.054017</td>\n",
       "      <td>0.953876</td>\n",
       "      <td>00:00</td>\n",
       "    </tr>\n",
       "    <tr>\n",
       "      <td>7</td>\n",
       "      <td>0.019874</td>\n",
       "      <td>0.047158</td>\n",
       "      <td>0.961236</td>\n",
       "      <td>00:00</td>\n",
       "    </tr>\n",
       "    <tr>\n",
       "      <td>8</td>\n",
       "      <td>0.018400</td>\n",
       "      <td>0.042390</td>\n",
       "      <td>0.965162</td>\n",
       "      <td>00:00</td>\n",
       "    </tr>\n",
       "    <tr>\n",
       "      <td>9</td>\n",
       "      <td>0.017527</td>\n",
       "      <td>0.038917</td>\n",
       "      <td>0.967125</td>\n",
       "      <td>00:00</td>\n",
       "    </tr>\n",
       "  </tbody>\n",
       "</table>"
      ],
      "text/plain": [
       "<IPython.core.display.HTML object>"
      ]
     },
     "metadata": {},
     "output_type": "display_data"
    }
   ],
   "source": [
    "learn.fit(10, lr=lr)"
   ]
  },
  {
   "cell_type": "markdown",
   "id": "7f2c877f-5b22-4999-9825-ad411ae37b06",
   "metadata": {},
   "source": [
    "### Adding Nonlinearity"
   ]
  },
  {
   "cell_type": "code",
   "execution_count": 144,
   "id": "bf91da0b-9b07-4c92-b174-7f5d3f8d3b7c",
   "metadata": {},
   "outputs": [
    {
     "data": {
      "text/html": [
       "\n",
       "<style>\n",
       "    /* Turns off some styling */\n",
       "    progress {\n",
       "        /* gets rid of default border in Firefox and Opera. */\n",
       "        border: none;\n",
       "        /* Needs to be in here for Safari polyfill so background images work as expected. */\n",
       "        background-size: auto;\n",
       "    }\n",
       "    progress:not([value]), progress:not([value])::-webkit-progress-bar {\n",
       "        background: repeating-linear-gradient(45deg, #7e7e7e, #7e7e7e 10px, #5c5c5c 10px, #5c5c5c 20px);\n",
       "    }\n",
       "    .progress-bar-interrupted, .progress-bar-interrupted::-webkit-progress-bar {\n",
       "        background: #F44336;\n",
       "    }\n",
       "</style>\n"
      ],
      "text/plain": [
       "<IPython.core.display.HTML object>"
      ]
     },
     "metadata": {},
     "output_type": "display_data"
    },
    {
     "data": {
      "text/html": [
       "<table border=\"1\" class=\"dataframe\">\n",
       "  <thead>\n",
       "    <tr style=\"text-align: left;\">\n",
       "      <th>epoch</th>\n",
       "      <th>train_loss</th>\n",
       "      <th>valid_loss</th>\n",
       "      <th>batch_accuracy</th>\n",
       "      <th>time</th>\n",
       "    </tr>\n",
       "  </thead>\n",
       "  <tbody>\n",
       "    <tr>\n",
       "      <td>0</td>\n",
       "      <td>0.334959</td>\n",
       "      <td>0.408047</td>\n",
       "      <td>0.505397</td>\n",
       "      <td>00:00</td>\n",
       "    </tr>\n",
       "    <tr>\n",
       "      <td>1</td>\n",
       "      <td>0.153579</td>\n",
       "      <td>0.242915</td>\n",
       "      <td>0.787046</td>\n",
       "      <td>00:00</td>\n",
       "    </tr>\n",
       "    <tr>\n",
       "      <td>2</td>\n",
       "      <td>0.084230</td>\n",
       "      <td>0.120787</td>\n",
       "      <td>0.913150</td>\n",
       "      <td>00:00</td>\n",
       "    </tr>\n",
       "    <tr>\n",
       "      <td>3</td>\n",
       "      <td>0.054761</td>\n",
       "      <td>0.080636</td>\n",
       "      <td>0.938665</td>\n",
       "      <td>00:00</td>\n",
       "    </tr>\n",
       "    <tr>\n",
       "      <td>4</td>\n",
       "      <td>0.041154</td>\n",
       "      <td>0.062526</td>\n",
       "      <td>0.952895</td>\n",
       "      <td>00:00</td>\n",
       "    </tr>\n",
       "    <tr>\n",
       "      <td>5</td>\n",
       "      <td>0.034242</td>\n",
       "      <td>0.052374</td>\n",
       "      <td>0.963199</td>\n",
       "      <td>00:00</td>\n",
       "    </tr>\n",
       "    <tr>\n",
       "      <td>6</td>\n",
       "      <td>0.030301</td>\n",
       "      <td>0.045991</td>\n",
       "      <td>0.965162</td>\n",
       "      <td>00:00</td>\n",
       "    </tr>\n",
       "    <tr>\n",
       "      <td>7</td>\n",
       "      <td>0.027758</td>\n",
       "      <td>0.041663</td>\n",
       "      <td>0.967125</td>\n",
       "      <td>00:00</td>\n",
       "    </tr>\n",
       "    <tr>\n",
       "      <td>8</td>\n",
       "      <td>0.025939</td>\n",
       "      <td>0.038535</td>\n",
       "      <td>0.968597</td>\n",
       "      <td>00:00</td>\n",
       "    </tr>\n",
       "    <tr>\n",
       "      <td>9</td>\n",
       "      <td>0.024536</td>\n",
       "      <td>0.036163</td>\n",
       "      <td>0.968597</td>\n",
       "      <td>00:00</td>\n",
       "    </tr>\n",
       "    <tr>\n",
       "      <td>10</td>\n",
       "      <td>0.023401</td>\n",
       "      <td>0.034290</td>\n",
       "      <td>0.971050</td>\n",
       "      <td>00:00</td>\n",
       "    </tr>\n",
       "    <tr>\n",
       "      <td>11</td>\n",
       "      <td>0.022456</td>\n",
       "      <td>0.032760</td>\n",
       "      <td>0.971541</td>\n",
       "      <td>00:00</td>\n",
       "    </tr>\n",
       "    <tr>\n",
       "      <td>12</td>\n",
       "      <td>0.021654</td>\n",
       "      <td>0.031474</td>\n",
       "      <td>0.973013</td>\n",
       "      <td>00:00</td>\n",
       "    </tr>\n",
       "    <tr>\n",
       "      <td>13</td>\n",
       "      <td>0.020961</td>\n",
       "      <td>0.030371</td>\n",
       "      <td>0.974975</td>\n",
       "      <td>00:00</td>\n",
       "    </tr>\n",
       "    <tr>\n",
       "      <td>14</td>\n",
       "      <td>0.020355</td>\n",
       "      <td>0.029410</td>\n",
       "      <td>0.975466</td>\n",
       "      <td>00:00</td>\n",
       "    </tr>\n",
       "    <tr>\n",
       "      <td>15</td>\n",
       "      <td>0.019820</td>\n",
       "      <td>0.028563</td>\n",
       "      <td>0.975957</td>\n",
       "      <td>00:00</td>\n",
       "    </tr>\n",
       "    <tr>\n",
       "      <td>16</td>\n",
       "      <td>0.019342</td>\n",
       "      <td>0.027809</td>\n",
       "      <td>0.976448</td>\n",
       "      <td>00:00</td>\n",
       "    </tr>\n",
       "    <tr>\n",
       "      <td>17</td>\n",
       "      <td>0.018911</td>\n",
       "      <td>0.027133</td>\n",
       "      <td>0.977429</td>\n",
       "      <td>00:00</td>\n",
       "    </tr>\n",
       "    <tr>\n",
       "      <td>18</td>\n",
       "      <td>0.018521</td>\n",
       "      <td>0.026524</td>\n",
       "      <td>0.977429</td>\n",
       "      <td>00:00</td>\n",
       "    </tr>\n",
       "    <tr>\n",
       "      <td>19</td>\n",
       "      <td>0.018164</td>\n",
       "      <td>0.025972</td>\n",
       "      <td>0.978410</td>\n",
       "      <td>00:00</td>\n",
       "    </tr>\n",
       "    <tr>\n",
       "      <td>20</td>\n",
       "      <td>0.017835</td>\n",
       "      <td>0.025469</td>\n",
       "      <td>0.978901</td>\n",
       "      <td>00:00</td>\n",
       "    </tr>\n",
       "    <tr>\n",
       "      <td>21</td>\n",
       "      <td>0.017532</td>\n",
       "      <td>0.025009</td>\n",
       "      <td>0.979882</td>\n",
       "      <td>00:00</td>\n",
       "    </tr>\n",
       "    <tr>\n",
       "      <td>22</td>\n",
       "      <td>0.017250</td>\n",
       "      <td>0.024587</td>\n",
       "      <td>0.979882</td>\n",
       "      <td>00:00</td>\n",
       "    </tr>\n",
       "    <tr>\n",
       "      <td>23</td>\n",
       "      <td>0.016987</td>\n",
       "      <td>0.024199</td>\n",
       "      <td>0.979882</td>\n",
       "      <td>00:00</td>\n",
       "    </tr>\n",
       "    <tr>\n",
       "      <td>24</td>\n",
       "      <td>0.016740</td>\n",
       "      <td>0.023840</td>\n",
       "      <td>0.980373</td>\n",
       "      <td>00:00</td>\n",
       "    </tr>\n",
       "    <tr>\n",
       "      <td>25</td>\n",
       "      <td>0.016508</td>\n",
       "      <td>0.023507</td>\n",
       "      <td>0.980373</td>\n",
       "      <td>00:00</td>\n",
       "    </tr>\n",
       "    <tr>\n",
       "      <td>26</td>\n",
       "      <td>0.016289</td>\n",
       "      <td>0.023199</td>\n",
       "      <td>0.980864</td>\n",
       "      <td>00:00</td>\n",
       "    </tr>\n",
       "    <tr>\n",
       "      <td>27</td>\n",
       "      <td>0.016082</td>\n",
       "      <td>0.022912</td>\n",
       "      <td>0.980864</td>\n",
       "      <td>00:00</td>\n",
       "    </tr>\n",
       "    <tr>\n",
       "      <td>28</td>\n",
       "      <td>0.015886</td>\n",
       "      <td>0.022645</td>\n",
       "      <td>0.981354</td>\n",
       "      <td>00:00</td>\n",
       "    </tr>\n",
       "    <tr>\n",
       "      <td>29</td>\n",
       "      <td>0.015699</td>\n",
       "      <td>0.022396</td>\n",
       "      <td>0.981845</td>\n",
       "      <td>00:00</td>\n",
       "    </tr>\n",
       "    <tr>\n",
       "      <td>30</td>\n",
       "      <td>0.015520</td>\n",
       "      <td>0.022164</td>\n",
       "      <td>0.982336</td>\n",
       "      <td>00:00</td>\n",
       "    </tr>\n",
       "    <tr>\n",
       "      <td>31</td>\n",
       "      <td>0.015351</td>\n",
       "      <td>0.021947</td>\n",
       "      <td>0.982826</td>\n",
       "      <td>00:00</td>\n",
       "    </tr>\n",
       "    <tr>\n",
       "      <td>32</td>\n",
       "      <td>0.015188</td>\n",
       "      <td>0.021744</td>\n",
       "      <td>0.983317</td>\n",
       "      <td>00:00</td>\n",
       "    </tr>\n",
       "    <tr>\n",
       "      <td>33</td>\n",
       "      <td>0.015032</td>\n",
       "      <td>0.021553</td>\n",
       "      <td>0.983317</td>\n",
       "      <td>00:00</td>\n",
       "    </tr>\n",
       "    <tr>\n",
       "      <td>34</td>\n",
       "      <td>0.014883</td>\n",
       "      <td>0.021374</td>\n",
       "      <td>0.983317</td>\n",
       "      <td>00:00</td>\n",
       "    </tr>\n",
       "    <tr>\n",
       "      <td>35</td>\n",
       "      <td>0.014740</td>\n",
       "      <td>0.021206</td>\n",
       "      <td>0.983317</td>\n",
       "      <td>00:00</td>\n",
       "    </tr>\n",
       "    <tr>\n",
       "      <td>36</td>\n",
       "      <td>0.014603</td>\n",
       "      <td>0.021047</td>\n",
       "      <td>0.982826</td>\n",
       "      <td>00:00</td>\n",
       "    </tr>\n",
       "    <tr>\n",
       "      <td>37</td>\n",
       "      <td>0.014470</td>\n",
       "      <td>0.020896</td>\n",
       "      <td>0.982826</td>\n",
       "      <td>00:00</td>\n",
       "    </tr>\n",
       "    <tr>\n",
       "      <td>38</td>\n",
       "      <td>0.014342</td>\n",
       "      <td>0.020754</td>\n",
       "      <td>0.982826</td>\n",
       "      <td>00:00</td>\n",
       "    </tr>\n",
       "    <tr>\n",
       "      <td>39</td>\n",
       "      <td>0.014219</td>\n",
       "      <td>0.020619</td>\n",
       "      <td>0.982826</td>\n",
       "      <td>00:00</td>\n",
       "    </tr>\n",
       "  </tbody>\n",
       "</table>"
      ],
      "text/plain": [
       "<IPython.core.display.HTML object>"
      ]
     },
     "metadata": {},
     "output_type": "display_data"
    }
   ],
   "source": [
    "#Using ReLU\n",
    "import torch\n",
    "import torch.nn as nn\n",
    "\n",
    "simple_net = torch.nn.Sequential(\n",
    "    nn.Linear(28*28,30),\n",
    "    nn.ReLU(),\n",
    "    nn.Linear(30,1)\n",
    ")\n",
    "\n",
    "#\"Learner\" - Helper function by fastai\n",
    "\n",
    "learn = Learner(dls, simple_net, opt_func=SGD,\n",
    "                loss_func=mnist_loss,\n",
    "                metrics=batch_accuracy)\n",
    "\n",
    "learn.fit(40, 0.1)"
   ]
  },
  {
   "cell_type": "code",
   "execution_count": 145,
   "id": "4af7a216-0565-4e63-b477-f266ccc600d6",
   "metadata": {},
   "outputs": [
    {
     "data": {
      "image/png": "[encoded data removed]",
      "text/plain": [
       "<Figure size 640x480 with 1 Axes>"
      ]
     },
     "metadata": {},
     "output_type": "display_data"
    }
   ],
   "source": [
    "plt.plot(L(learn.recorder.values).itemgot(2));"
   ]
  },
  {
   "cell_type": "code",
   "execution_count": 151,
   "id": "5e7667b6-b80d-4e79-b857-aac6229538a1",
   "metadata": {},
   "outputs": [
    {
     "data": {
      "text/plain": [
       "0.982826292514801"
      ]
     },
     "execution_count": 151,
     "metadata": {},
     "output_type": "execute_result"
    }
   ],
   "source": [
    "#Final accuracy\n",
    "\n",
    "learn.recorder.values[-1][2]"
   ]
  },
  {
   "cell_type": "markdown",
   "id": "11b8b2f2-ee86-44e9-bb25-98076709b74e",
   "metadata": {},
   "source": [
    "### Using an 18 layer deep model"
   ]
  },
  {
   "cell_type": "code",
   "execution_count": 153,
   "id": "a31aa6ce-ac5a-4b0d-8b7d-641bc11736ab",
   "metadata": {},
   "outputs": [
    {
     "data": {
      "text/html": [
       "\n",
       "<style>\n",
       "    /* Turns off some styling */\n",
       "    progress {\n",
       "        /* gets rid of default border in Firefox and Opera. */\n",
       "        border: none;\n",
       "        /* Needs to be in here for Safari polyfill so background images work as expected. */\n",
       "        background-size: auto;\n",
       "    }\n",
       "    progress:not([value]), progress:not([value])::-webkit-progress-bar {\n",
       "        background: repeating-linear-gradient(45deg, #7e7e7e, #7e7e7e 10px, #5c5c5c 10px, #5c5c5c 20px);\n",
       "    }\n",
       "    .progress-bar-interrupted, .progress-bar-interrupted::-webkit-progress-bar {\n",
       "        background: #F44336;\n",
       "    }\n",
       "</style>\n"
      ],
      "text/plain": [
       "<IPython.core.display.HTML object>"
      ]
     },
     "metadata": {},
     "output_type": "display_data"
    },
    {
     "data": {
      "text/html": [
       "<table border=\"1\" class=\"dataframe\">\n",
       "  <thead>\n",
       "    <tr style=\"text-align: left;\">\n",
       "      <th>epoch</th>\n",
       "      <th>train_loss</th>\n",
       "      <th>valid_loss</th>\n",
       "      <th>accuracy</th>\n",
       "      <th>time</th>\n",
       "    </tr>\n",
       "  </thead>\n",
       "  <tbody>\n",
       "    <tr>\n",
       "      <td>0</td>\n",
       "      <td>0.080398</td>\n",
       "      <td>0.022817</td>\n",
       "      <td>0.994112</td>\n",
       "      <td>00:19</td>\n",
       "    </tr>\n",
       "  </tbody>\n",
       "</table>"
      ],
      "text/plain": [
       "<IPython.core.display.HTML object>"
      ]
     },
     "metadata": {},
     "output_type": "display_data"
    }
   ],
   "source": [
    "dls = ImageDataLoaders.from_folder(path)\n",
    "learn = vision_learner(dls, resnet18, pretrained=False,\n",
    "                     loss_func=F.cross_entropy, metrics=accuracy)\n",
    "learn.fit_one_cycle(1, 0.1)"
   ]
  },
  {
   "cell_type": "code",
   "execution_count": null,
   "id": "72c37278-4490-48b4-8985-3370b96f49e8",
   "metadata": {},
   "outputs": [],
   "source": []
  }
 ],
 "metadata": {
  "kernelspec": {
   "display_name": "Python 3 (ipykernel)",
   "language": "python",
   "name": "python3"
  },
  "language_info": {
   "codemirror_mode": {
    "name": "ipython",
    "version": 3
   },
   "file_extension": ".py",
   "mimetype": "text/x-python",
   "name": "python",
   "nbconvert_exporter": "python",
   "pygments_lexer": "ipython3",
   "version": "3.11.9"
  }
 },
 "nbformat": 4,
 "nbformat_minor": 5
}
